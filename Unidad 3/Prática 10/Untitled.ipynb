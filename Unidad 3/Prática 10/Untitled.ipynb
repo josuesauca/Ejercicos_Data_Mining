{
 "cells": [
  {
   "cell_type": "code",
   "execution_count": 9,
   "id": "bb9c2a8c",
   "metadata": {},
   "outputs": [
    {
     "name": "stdout",
     "output_type": "stream",
     "text": [
      "Tasa de falsos positivos (FPR): [0.  0.5 0.5 1.  1. ]\n",
      "Tasa de verdaderos positivos (TPR): [0.         0.         0.33333333 0.33333333 1.        ]\n",
      "Umbrales: [inf 0.8 0.6 0.4 0.1]\n",
      "Área bajo la curva (AUC): 0.16666666666666666\n"
     ]
    }
   ],
   "source": [
    "import numpy as np\n",
    "from sklearn.metrics import roc_curve, auc\n",
    "\n",
    "# Datos de ejemplo\n",
    "y_true = np.array([1, 0, 1, 0, 1])\n",
    "y_scores = np.array([0.1, 0.4, 0.35, 0.8, 0.6])\n",
    "\n",
    "# Calcular la curva ROC\n",
    "fpr, tpr, thresholds = roc_curve(y_true, y_scores, pos_label=1)\n",
    "\n",
    "# Calcular el área bajo la curva (AUC)\n",
    "roc_auc = auc(fpr, tpr)\n",
    "\n",
    "# Imprimir los resultados\n",
    "print('Tasa de falsos positivos (FPR):', fpr)\n",
    "print('Tasa de verdaderos positivos (TPR):', tpr)\n",
    "print('Umbrales:', thresholds)\n",
    "print('Área bajo la curva (AUC):', roc_auc)"
   ]
  },
  {
   "cell_type": "code",
   "execution_count": null,
   "id": "d75520f1",
   "metadata": {},
   "outputs": [],
   "source": []
  }
 ],
 "metadata": {
  "kernelspec": {
   "display_name": "Python 3 (ipykernel)",
   "language": "python",
   "name": "python3"
  }
 },
 "nbformat": 4,
 "nbformat_minor": 5
}
