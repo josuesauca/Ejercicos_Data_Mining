{
 "cells": [
  {
   "cell_type": "markdown",
   "id": "115403de",
   "metadata": {},
   "source": [
    "## Nombre : Josue Alejandro Sauca Pucha\n",
    "## Fecha : 02-08-2023"
   ]
  },
  {
   "cell_type": "code",
   "execution_count": 44,
   "id": "2028629f",
   "metadata": {},
   "outputs": [
    {
     "data": {
      "text/plain": [
       "preg     768\n",
       "plas     768\n",
       "pres     768\n",
       "skin     768\n",
       "insu     768\n",
       "mass     768\n",
       "pedi     768\n",
       "age      768\n",
       "class    768\n",
       "dtype: int64"
      ]
     },
     "execution_count": 44,
     "metadata": {},
     "output_type": "execute_result"
    }
   ],
   "source": [
    "import pandas as pd\n",
    "from scipy.io import arff\n",
    "\n",
    "datos, meta = arff.loadarff('diabetes.arff')\n",
    "df = pd.DataFrame(datos)\n",
    "\n",
    "df.count()"
   ]
  },
  {
   "cell_type": "code",
   "execution_count": 6,
   "id": "49dfddbd",
   "metadata": {},
   "outputs": [
    {
     "data": {
      "text/html": [
       "<div>\n",
       "<style scoped>\n",
       "    .dataframe tbody tr th:only-of-type {\n",
       "        vertical-align: middle;\n",
       "    }\n",
       "\n",
       "    .dataframe tbody tr th {\n",
       "        vertical-align: top;\n",
       "    }\n",
       "\n",
       "    .dataframe thead th {\n",
       "        text-align: right;\n",
       "    }\n",
       "</style>\n",
       "<table border=\"1\" class=\"dataframe\">\n",
       "  <thead>\n",
       "    <tr style=\"text-align: right;\">\n",
       "      <th></th>\n",
       "      <th>preg</th>\n",
       "      <th>plas</th>\n",
       "      <th>pres</th>\n",
       "      <th>skin</th>\n",
       "      <th>insu</th>\n",
       "      <th>mass</th>\n",
       "      <th>pedi</th>\n",
       "      <th>age</th>\n",
       "      <th>class</th>\n",
       "    </tr>\n",
       "  </thead>\n",
       "  <tbody>\n",
       "    <tr>\n",
       "      <th>0</th>\n",
       "      <td>6.0</td>\n",
       "      <td>148.0</td>\n",
       "      <td>72.0</td>\n",
       "      <td>35.0</td>\n",
       "      <td>0.0</td>\n",
       "      <td>33.6</td>\n",
       "      <td>0.627</td>\n",
       "      <td>50.0</td>\n",
       "      <td>b'tested_positive'</td>\n",
       "    </tr>\n",
       "    <tr>\n",
       "      <th>1</th>\n",
       "      <td>1.0</td>\n",
       "      <td>85.0</td>\n",
       "      <td>66.0</td>\n",
       "      <td>29.0</td>\n",
       "      <td>0.0</td>\n",
       "      <td>26.6</td>\n",
       "      <td>0.351</td>\n",
       "      <td>31.0</td>\n",
       "      <td>b'tested_negative'</td>\n",
       "    </tr>\n",
       "    <tr>\n",
       "      <th>2</th>\n",
       "      <td>8.0</td>\n",
       "      <td>183.0</td>\n",
       "      <td>64.0</td>\n",
       "      <td>0.0</td>\n",
       "      <td>0.0</td>\n",
       "      <td>23.3</td>\n",
       "      <td>0.672</td>\n",
       "      <td>32.0</td>\n",
       "      <td>b'tested_positive'</td>\n",
       "    </tr>\n",
       "    <tr>\n",
       "      <th>3</th>\n",
       "      <td>1.0</td>\n",
       "      <td>89.0</td>\n",
       "      <td>66.0</td>\n",
       "      <td>23.0</td>\n",
       "      <td>94.0</td>\n",
       "      <td>28.1</td>\n",
       "      <td>0.167</td>\n",
       "      <td>21.0</td>\n",
       "      <td>b'tested_negative'</td>\n",
       "    </tr>\n",
       "    <tr>\n",
       "      <th>4</th>\n",
       "      <td>0.0</td>\n",
       "      <td>137.0</td>\n",
       "      <td>40.0</td>\n",
       "      <td>35.0</td>\n",
       "      <td>168.0</td>\n",
       "      <td>43.1</td>\n",
       "      <td>2.288</td>\n",
       "      <td>33.0</td>\n",
       "      <td>b'tested_positive'</td>\n",
       "    </tr>\n",
       "  </tbody>\n",
       "</table>\n",
       "</div>"
      ],
      "text/plain": [
       "   preg   plas  pres  skin   insu  mass   pedi   age               class\n",
       "0   6.0  148.0  72.0  35.0    0.0  33.6  0.627  50.0  b'tested_positive'\n",
       "1   1.0   85.0  66.0  29.0    0.0  26.6  0.351  31.0  b'tested_negative'\n",
       "2   8.0  183.0  64.0   0.0    0.0  23.3  0.672  32.0  b'tested_positive'\n",
       "3   1.0   89.0  66.0  23.0   94.0  28.1  0.167  21.0  b'tested_negative'\n",
       "4   0.0  137.0  40.0  35.0  168.0  43.1  2.288  33.0  b'tested_positive'"
      ]
     },
     "execution_count": 6,
     "metadata": {},
     "output_type": "execute_result"
    }
   ],
   "source": [
    "df.head()"
   ]
  },
  {
   "cell_type": "code",
   "execution_count": 12,
   "id": "8d4b5062",
   "metadata": {},
   "outputs": [
    {
     "data": {
      "text/plain": [
       "pandas.core.frame.DataFrame"
      ]
     },
     "execution_count": 12,
     "metadata": {},
     "output_type": "execute_result"
    }
   ],
   "source": [
    "type(df)"
   ]
  },
  {
   "cell_type": "code",
   "execution_count": 40,
   "id": "be4b494c",
   "metadata": {},
   "outputs": [],
   "source": [
    "# Aqui dividimos el conjunto de datos en uno para entrenamiento\n",
    "#y otro para tes con la funcion train_test_split\n",
    "#donde el 20 % de los datos se utilizará para pruebas\n",
    "from sklearn.model_selection import train_test_split\n",
    "train_data, test_data = train_test_split(datos,test_size=0.20)"
   ]
  },
  {
   "cell_type": "code",
   "execution_count": 41,
   "id": "1168cd3f",
   "metadata": {},
   "outputs": [],
   "source": [
    "prueba = pd.DataFrame(train_data, columns = ['preg','plas','pres','skin','insu','mass','pedi','age','class'])"
   ]
  },
  {
   "cell_type": "code",
   "execution_count": 43,
   "id": "2e012a34",
   "metadata": {},
   "outputs": [
    {
     "data": {
      "text/plain": [
       "preg     491\n",
       "plas     491\n",
       "pres     491\n",
       "skin     491\n",
       "insu     491\n",
       "mass     491\n",
       "pedi     491\n",
       "age      491\n",
       "class    491\n",
       "dtype: int64"
      ]
     },
     "execution_count": 43,
     "metadata": {},
     "output_type": "execute_result"
    }
   ],
   "source": [
    "prueba.count()"
   ]
  },
  {
   "cell_type": "code",
   "execution_count": 15,
   "id": "13be8c26",
   "metadata": {},
   "outputs": [],
   "source": [
    "prueba.to_csv('prueba.csv',index=False)"
   ]
  },
  {
   "cell_type": "code",
   "execution_count": 27,
   "id": "519e5725",
   "metadata": {},
   "outputs": [
    {
     "data": {
      "text/plain": [
       "preg     154\n",
       "plas     154\n",
       "pres     154\n",
       "skin     154\n",
       "insu     154\n",
       "mass     154\n",
       "pedi     154\n",
       "age      154\n",
       "class    154\n",
       "dtype: int64"
      ]
     },
     "execution_count": 27,
     "metadata": {},
     "output_type": "execute_result"
    }
   ],
   "source": [
    "entrenamiento = pd.DataFrame(test_data, columns = ['preg','plas','pres','skin','insu','mass','pedi','age','class'])\n",
    "entrenamiento.count()"
   ]
  },
  {
   "cell_type": "code",
   "execution_count": 22,
   "id": "47f72efb",
   "metadata": {},
   "outputs": [],
   "source": [
    "entrenamiento.to_csv('entrenamiento.csv',index=False)"
   ]
  }
 ],
 "metadata": {
  "kernelspec": {
   "display_name": "Python 3 (ipykernel)",
   "language": "python",
   "name": "python3"
  },
  "language_info": {
   "codemirror_mode": {
    "name": "ipython",
    "version": 3
   },
   "file_extension": ".py",
   "mimetype": "text/x-python",
   "name": "python",
   "nbconvert_exporter": "python",
   "pygments_lexer": "ipython3",
   "version": "3.9.7"
  }
 },
 "nbformat": 4,
 "nbformat_minor": 5
}
