{
 "cells": [
  {
   "cell_type": "markdown",
   "id": "c34ebcbe",
   "metadata": {},
   "source": [
    "# Nombre : Josue Alejandro Sauca Pucha \n",
    "# Fecha : 10-05-2023\n",
    "\n",
    "# Práctica de laboratorio: análisis de datos del contador de Internet\n",
    "\n",
    "**Objetivos:**\n",
    "    \n",
    "    **Parte 1: Recopilar y guardar los datos**\n",
    "    **Parte 2: Manipular los datos**\n",
    "\n",
    "**Aspectos básicos/situación**\n",
    "\n",
    "En esta práctica de laboratorio, usted adquirirá estadísticas de la velocidad de Internet y almacenar los datos en vivo en los valores separados por comas (csv) Archivo. También cargará los datos almacenados del archivo csv a una estructura de datos de Python, el 'DataFrame' de Panda, y utilizará sus funcionalidades para explorar los datos y para manipularlos de manera que sean fácilmente legibles.\n",
    "\n",
    "**Recursos necesarios**\n",
    "\n",
    "    * 1 computadora con acceso a Internet\n",
    "    * Raspberry Pi versión 2 o superior\n",
    "    * Bibliotecas de Python: datetime, csv, subprocess, pandas, numpy\n",
    "    * Archivos de datos: rpi_data_long.csv\n",
    "    \n",
    "## Parte 1: Recopilar y guardar los datos\n",
    "\n",
    "El objetivo de esta primera parte de la práctica de laboratorio es reunir mediciones de la velocidad de Internet a través de Raspberry Pi. Se recogerán tres tipos de mediciones:\n",
    "\n",
    "    1. Velocidad de ping\n",
    "    2. Velocidad de descarga\n",
    "    3. Velocidad de carga\n",
    "    \n",
    "### Paso 1: Instalar Speedtest e importar las bibliotecas de Python.\n",
    "\n",
    "En este paso, instalará Speedtest e importará las bibliotecas de Python.\n",
    "Speedtest-cli es un script de Python que mide la velocidad de carga y de descarga de la conexión a Internet. Para obtener más información sobre speedtest, vaya a https://github.com/sivel/speedtest-cli.\n",
    "\n",
    "a) Instale 'speedtest-cli'.\n",
    "\n",
    "\n",
    "\n"
   ]
  },
  {
   "cell_type": "code",
   "execution_count": 24,
   "id": "19f77db6",
   "metadata": {},
   "outputs": [
    {
     "name": "stdout",
     "output_type": "stream",
     "text": [
      "Requirement already satisfied: speedtest-cli in d:\\programas\\anaconda\\lib\\site-packages (2.1.3)\n"
     ]
    }
   ],
   "source": [
    "# Code cell 1\n",
    "!pip install speedtest-cli"
   ]
  },
  {
   "cell_type": "markdown",
   "id": "7f0d91fe",
   "metadata": {},
   "source": [
    "Este cli permite que la notebook de Jupyter se conecte a la página web y guarde los datos.\n",
    "\n",
    "b) Importe las bibliotecas de Python necesarias."
   ]
  },
  {
   "cell_type": "code",
   "execution_count": 25,
   "id": "652ae238",
   "metadata": {},
   "outputs": [],
   "source": [
    "# Code cell 2\n",
    "# Python library to manage date and time data\n",
    "import datetime\n",
    "# Python library to read and write csv files\n",
    "import csv\n",
    "# Python library to execute bash commands from the notebook.\n",
    "# If you want to know more about this, check this resource: \n",
    "# http://www.pythonforbeginners.com/os/subprocess-for-system-administrators\n",
    "import subprocess"
   ]
  },
  {
   "cell_type": "markdown",
   "id": "dfd90de7",
   "metadata": {},
   "source": [
    "### Paso 2: Generar las marcas de hora mediante el paquete 'datetime'.\n",
    "En esta práctica de laboratorio, se generarán mediciones de las estadísticas de la velocidad de Internet. Un paso crucial en la adquisición de datos para la mayoría de las aplicaciones de análisis de datos es asociar una marca de hora a las mediciones.\n",
    "\n",
    "a) Para generar una marca de hora, utilice la función 'datetime.now' del paquete 'datetime':"
   ]
  },
  {
   "cell_type": "code",
   "execution_count": 26,
   "id": "2c7080dd",
   "metadata": {},
   "outputs": [
    {
     "name": "stdout",
     "output_type": "stream",
     "text": [
      "2023-05-12 10:58:57.707539 <class 'datetime.datetime'>\n"
     ]
    }
   ],
   "source": [
    "# Code cell 3\n",
    "date_time = datetime.datetime.now()\n",
    "print(date_time, type(date_time))"
   ]
  },
  {
   "cell_type": "markdown",
   "id": "413b0570",
   "metadata": {},
   "source": [
    "b) Una instancia de la clase 'datetime' no se puede escribir directamente en forma de texto. La función 'strftime' analiza la información de fecha en una cadena. Los argumentos de esta función determinan el formato del sting de salida. Una descripción de estos parámetros se encuentra en la documentación de la función 'strftime' en https://docs.python.org/2/library/time.html."
   ]
  },
  {
   "cell_type": "code",
   "execution_count": 27,
   "id": "1855d25a",
   "metadata": {},
   "outputs": [
    {
     "data": {
      "text/plain": [
       "'Fri, 12 May 2023 10:58:57'"
      ]
     },
     "execution_count": 27,
     "metadata": {},
     "output_type": "execute_result"
    }
   ],
   "source": [
    "# Code cell 4\n",
    "date_time.strftime('%a, %d %b %Y %H:%M:%S')"
   ]
  },
  {
   "cell_type": "markdown",
   "id": "809fe14f",
   "metadata": {},
   "source": [
    "Después de leer la documentación de la función 'strftime', genere una marca de hora y analícela en una cadena con el siguiente formato: AAAA-MM-DD HH:MM:SS."
   ]
  },
  {
   "cell_type": "code",
   "execution_count": 28,
   "id": "3d29bb49",
   "metadata": {},
   "outputs": [
    {
     "data": {
      "text/plain": [
       "'2023-05-12 10:58:57'"
      ]
     },
     "execution_count": 28,
     "metadata": {},
     "output_type": "execute_result"
    }
   ],
   "source": [
    "# Code cell 5\n",
    "# enter your code\n",
    "date_time.strftime('%Y-%m-%d %H:%M:%S')"
   ]
  },
  {
   "cell_type": "markdown",
   "id": "f780265b",
   "metadata": {},
   "source": [
    "### Paso 3: Ejecutar el proceso y recopilar la salida con Python.\n",
    "\n",
    "El comando 'speedtest-cli', si se ejecuta desde un terminal, devuelve una cadena con las velocidades de carga y descarga. Para ejecutar el comando de la computadora portátil, es necesario utilizar el 'subproceso' del módulo de Python, que permite la ejecución de un proceso directamente de las celdas de código de la computadora portátil.\n",
    "\n",
    "a) Ejecute una prueba de velocidad mediante el comando 'speedtest-cli' de Python. La salida se almacenará en la variable process_output."
   ]
  },
  {
   "cell_type": "code",
   "execution_count": 29,
   "id": "3cc926d8",
   "metadata": {},
   "outputs": [],
   "source": [
    "# Code cell 6\n",
    "# This string contains the command line to interface with speedtest.net\n",
    "speedtest_cmd = \"speedtest-cli --simple\"\n",
    "# Execute the process\n",
    "process = subprocess.Popen(speedtest_cmd.split(), stdout=subprocess.PIPE)\n",
    "# Collect the command output\n",
    "process_output = process.communicate()[0]"
   ]
  },
  {
   "cell_type": "markdown",
   "id": "aa7f9acf",
   "metadata": {},
   "source": [
    "b) Imprima la salida del proceso. Observe el tipo para la variable 'process_output'."
   ]
  },
  {
   "cell_type": "code",
   "execution_count": 30,
   "id": "9e1e6bd3",
   "metadata": {},
   "outputs": [
    {
     "name": "stdout",
     "output_type": "stream",
     "text": [
      "b'Ping: 52.621 ms\\r\\nDownload: 90.06 Mbit/s\\r\\nUpload: 87.08 Mbit/s\\r\\n' <class 'bytes'>\n"
     ]
    }
   ],
   "source": [
    "# Code cell 7\n",
    "print(process_output, type(process_output))"
   ]
  },
  {
   "cell_type": "markdown",
   "id": "57f84a8f",
   "metadata": {},
   "source": [
    "c) El resultado de la prueba de velocidad se divide, y una marca de hora se adjunta a los resultados."
   ]
  },
  {
   "cell_type": "code",
   "execution_count": 31,
   "id": "467281c9",
   "metadata": {},
   "outputs": [
    {
     "name": "stdout",
     "output_type": "stream",
     "text": [
      "[b'Ping:', b'52.621', b'ms', b'Download:', b'90.06', b'Mbit/s', b'Upload:', b'87.08', b'Mbit/s', '2023-05-12 11:00:04'] <class 'list'>\n"
     ]
    }
   ],
   "source": [
    "# Code cell 8\n",
    "# Store the time at which the speedtest was executed\n",
    "date_time = datetime.datetime.now().strftime(\"%Y-%m-%d %H:%M:%S\")\n",
    "process_output = process_output.split()\n",
    "process_output.append(date_time)\n",
    "print(process_output, type(process_output))"
   ]
  },
  {
   "cell_type": "markdown",
   "id": "5607c9ba",
   "metadata": {},
   "source": [
    "d) La función speedtest() se crea para devolver los resultados del comando speedtest-cli."
   ]
  },
  {
   "cell_type": "code",
   "execution_count": 32,
   "id": "836fe410",
   "metadata": {},
   "outputs": [],
   "source": [
    "# Code cell 9\n",
    "# function to excute the speed test\n",
    "def speedtest():\n",
    "    # We need to store the time at which the speedtest was executed\n",
    "    date_time = datetime.datetime.now().strftime(\"%Y-%m-%d %H:%M:%S\")\n",
    "    # This is a string that contains what we would write on the command line \n",
    "    #to interface with speedtest.net\n",
    "    speedtest_cmd = \"speedtest-cli --simple\"\n",
    "    # We now execute the process: \n",
    "    process = subprocess.Popen(speedtest_cmd.split(), stdout=subprocess.PIPE)\n",
    "    process_output = process.communicate()[0]\n",
    "    process_output = process_output.split()\n",
    "    # and we add the date and time \n",
    "    process_output.append(date_time)\n",
    "    return process_output"
   ]
  },
  {
   "cell_type": "markdown",
   "id": "f63c80cb",
   "metadata": {},
   "source": [
    "¿Qué devuelve la función speedtest()? ¿Cuál es el código para ver resultados de la función speedtest()?\n",
    "\n",
    "\n"
   ]
  },
  {
   "cell_type": "code",
   "execution_count": 35,
   "id": "ba25b92a",
   "metadata": {},
   "outputs": [
    {
     "name": "stdout",
     "output_type": "stream",
     "text": [
      "<class 'list'>\n"
     ]
    }
   ],
   "source": [
    "\"\"\"\n",
    "    La funcion speedtest(), nos devulve una lista de datos,\n",
    "    esta funcion se la utiliza en el contexto del ejecicio para\n",
    "    comprobar la velocidad del internet a la que se encuentra conectado\n",
    "    la maquina, proporcionandonos datos como :\n",
    "        - La velocidad de descarga\n",
    "        - La velocidad de subida\n",
    "        - Fecha en la que se realizo la ejecucion\n",
    "        - Permite ver la latencia a la que se encuentra la red\n",
    "\"\"\"\n",
    "print(type(speedtest()))"
   ]
  },
  {
   "cell_type": "code",
   "execution_count": 22,
   "id": "ed662a5d",
   "metadata": {},
   "outputs": [
    {
     "data": {
      "text/plain": [
       "[b'Ping:',\n",
       " b'385.448',\n",
       " b'ms',\n",
       " b'Download:',\n",
       " b'10.75',\n",
       " b'Mbit/s',\n",
       " b'Upload:',\n",
       " b'3.51',\n",
       " b'Mbit/s',\n",
       " '2023-05-11 23:18:24']"
      ]
     },
     "execution_count": 22,
     "metadata": {},
     "output_type": "execute_result"
    }
   ],
   "source": [
    "# Code cell 10 \n",
    "# Code to view the results from speedtest() function\n",
    "speedtest()"
   ]
  },
  {
   "cell_type": "markdown",
   "id": "98a3f8da",
   "metadata": {},
   "source": [
    "### Paso 4: Guardar la salida de la función 'speedtest()'.\n",
    "Los valores separados por comas (csv) son el formato de importación y exportación más común para las hojas de cálculo y las bases de datos. Para obtener más información sobre el trabajo con los csv en Python, navegue a https://docs.python.org/2/library/csv.html.\n",
    "\n",
    "a) Cree un archivo denominado test.txt en el directorio /tmp y escriba \"test_msg\" en el archivo."
   ]
  },
  {
   "cell_type": "code",
   "execution_count": 30,
   "id": "26283c03",
   "metadata": {},
   "outputs": [],
   "source": [
    "# Code cell 11\n",
    "with open(\"tmp/test.txt\",'w') as f:\n",
    "    f.write('test_msg')"
   ]
  },
  {
   "cell_type": "markdown",
   "id": "3f7ac6ff",
   "metadata": {},
   "source": [
    "b) Use el comando de Linux 'cat' para verificar la creación y el contenido del archivo."
   ]
  },
  {
   "cell_type": "code",
   "execution_count": 32,
   "id": "d3bcdcd6",
   "metadata": {},
   "outputs": [
    {
     "name": "stdout",
     "output_type": "stream",
     "text": [
      "test_msg\n"
     ]
    }
   ],
   "source": [
    "# Code cell 12\n",
    "!cat tmp/test.txt"
   ]
  },
  {
   "cell_type": "markdown",
   "id": "4fe64b21",
   "metadata": {},
   "source": [
    "c) Para verificar que el archivo se haya abierto correctamente:"
   ]
  },
  {
   "cell_type": "code",
   "execution_count": 33,
   "id": "8913a5aa",
   "metadata": {},
   "outputs": [
    {
     "name": "stdout",
     "output_type": "stream",
     "text": [
      "test_msg\n"
     ]
    }
   ],
   "source": [
    "# Code cell 13\n",
    "with open(\"tmp/test.txt\",'r') as f:\n",
    "   str = f.read()\n",
    "print(str)"
   ]
  },
  {
   "cell_type": "markdown",
   "id": "f0e35f84",
   "metadata": {},
   "source": [
    "d) La comprensión del significado de la declaración 'with', especialmente en combinación con 'try' y 'except' no es necesaria para el resto de esta práctica de laboratorio, pero se incluye un recurso útil sobre esto en http://effbot.org/zone/python-with-statement.htm.\n",
    "\n",
    "Para escribir en el archivo 'csv', es necesario crear un objeto 'csv.writer'. Verifique https://docs.python.org/2/library/csv.html y descubra qué función del objeto 'csv.writer' se puede utilizar para agregar una fila al archivo 'csv'."
   ]
  },
  {
   "cell_type": "code",
   "execution_count": 35,
   "id": "72b35c43",
   "metadata": {},
   "outputs": [],
   "source": [
    "# Code cell 14\n",
    "# function to save data to csv\n",
    "def save_to_csv(data, filename):\n",
    "    try:\n",
    "        # If the file exists, we want to append a new line to it, with the \n",
    "        #results of the current experiment\n",
    "        with open(filename + '.csv', 'a') as f:\n",
    "            wr = csv.writer(f)\n",
    "            wr.writerow(data)\n",
    "    except:\n",
    "        # If it does not exist, create the file first\n",
    "        with open(filename + '.csv', 'w') as f:\n",
    "            # Hint: This is similar to appending new lines to a file.\n",
    "            # Create a csv writer object\n",
    "            # ADD CODE HERE\n",
    "            wr = csv.writer(f)\n",
    "            # Save (write) to file\n",
    "            # ADD CODE HERE\n",
    "            wr.writerow(data)"
   ]
  },
  {
   "cell_type": "markdown",
   "id": "787c0538",
   "metadata": {},
   "source": [
    "### Paso 5: Verificar los datos recolectados.\n",
    "Escriba una función para abrir un archivo csv e imprima su contenido en la pantalla. Puede encontrar un ejemplo en la sección 13.1.5 de https://docs.python.org/2/library/csv.html"
   ]
  },
  {
   "cell_type": "code",
   "execution_count": 41,
   "id": "151cc0a6",
   "metadata": {},
   "outputs": [],
   "source": [
    "# Code cell 15\n",
    "def print_from_csv(filename): \n",
    "    with open(filename + '.csv', 'r') as f:\n",
    "            re = csv.reader(f)\n",
    "            # 1. Loop over the rows\n",
    "            for i in re:\n",
    "            # 2. print\n",
    "                print(\" \".join(i))"
   ]
  },
  {
   "cell_type": "markdown",
   "id": "3b21e9ed",
   "metadata": {},
   "source": [
    "Ahora, todas las funciones necesarias para recopilar y almacenar los datos de la velocidad de Internet han finalizado.\n",
    "### Paso 6: Ejecutar varias veces Speedtest y guardar los datos.\n",
    "\n",
    "a) Escriba un bucle 'for' que ejecute speedtest 5 veces, imprima la salida de las pruebas y guarde los datos en un archivo csv.\n"
   ]
  },
  {
   "cell_type": "code",
   "execution_count": 38,
   "id": "34543b40",
   "metadata": {},
   "outputs": [
    {
     "name": "stdout",
     "output_type": "stream",
     "text": [
      "Test number 0\n",
      "[b'Ping:', b'140.238', b'ms', b'Download:', b'22.55', b'Mbit/s', b'Upload:', b'7.47', b'Mbit/s', '2023-05-11 23:38:21']\n",
      "Test number 1\n",
      "[b'Ping:', b'126.118', b'ms', b'Download:', b'11.48', b'Mbit/s', b'Upload:', b'7.56', b'Mbit/s', '2023-05-11 23:38:53']\n",
      "Test number 2\n",
      "[b'Ping:', b'137.879', b'ms', b'Download:', b'28.13', b'Mbit/s', b'Upload:', b'4.62', b'Mbit/s', '2023-05-11 23:39:26']\n",
      "Test number 3\n",
      "[b'Ping:', b'110.044', b'ms', b'Download:', b'24.35', b'Mbit/s', b'Upload:', b'14.85', b'Mbit/s', '2023-05-11 23:39:56']\n",
      "Test number 4\n",
      "[b'Ping:', b'196.076', b'ms', b'Download:', b'53.81', b'Mbit/s', b'Upload:', b'17.86', b'Mbit/s', '2023-05-11 23:40:28']\n"
     ]
    }
   ],
   "source": [
    "# Code cell 16\n",
    "for i in range(5):\n",
    "    speedtest_output = speedtest()\n",
    "    print('Test number {}'.format(i))\n",
    "    print(speedtest_output)\n",
    "    save_to_csv(speedtest_output, 'tmp/rpi_data_test')"
   ]
  },
  {
   "cell_type": "markdown",
   "id": "c77ad2e8",
   "metadata": {},
   "source": [
    "\n",
    "b) Muestre el archivo para verificar que los datos se hayan guardado correctamente\n"
   ]
  },
  {
   "cell_type": "code",
   "execution_count": 42,
   "id": "f104a317",
   "metadata": {},
   "outputs": [
    {
     "name": "stdout",
     "output_type": "stream",
     "text": [
      "b'Ping:' b'285.855' b'ms' b'Download:' b'29.78' b'Mbit/s' b'Upload:' b'6.13' b'Mbit/s' 2023-05-11 23:36:45\n",
      "\n",
      "b'Ping:' b'140.238' b'ms' b'Download:' b'22.55' b'Mbit/s' b'Upload:' b'7.47' b'Mbit/s' 2023-05-11 23:38:21\n",
      "\n",
      "b'Ping:' b'126.118' b'ms' b'Download:' b'11.48' b'Mbit/s' b'Upload:' b'7.56' b'Mbit/s' 2023-05-11 23:38:53\n",
      "\n",
      "b'Ping:' b'137.879' b'ms' b'Download:' b'28.13' b'Mbit/s' b'Upload:' b'4.62' b'Mbit/s' 2023-05-11 23:39:26\n",
      "\n",
      "b'Ping:' b'110.044' b'ms' b'Download:' b'24.35' b'Mbit/s' b'Upload:' b'14.85' b'Mbit/s' 2023-05-11 23:39:56\n",
      "\n",
      "b'Ping:' b'196.076' b'ms' b'Download:' b'53.81' b'Mbit/s' b'Upload:' b'17.86' b'Mbit/s' 2023-05-11 23:40:28\n",
      "\n"
     ]
    }
   ],
   "source": [
    "# Code cell 17\n",
    "print_from_csv('tmp/rpi_data_test')"
   ]
  },
  {
   "cell_type": "markdown",
   "id": "22046159",
   "metadata": {},
   "source": [
    "Si un conjunto de datos más grande es necesario, speedtest puede ejecutarse en segundo plano para más muestras.\n",
    "¿Cómo cambiaría el código si quisiera ejecutar el código 100 veces?\n"
   ]
  },
  {
   "cell_type": "code",
   "execution_count": 48,
   "id": "aa9ed6b9",
   "metadata": {},
   "outputs": [
    {
     "name": "stdout",
     "output_type": "stream",
     "text": [
      "Test number: 0\n",
      "[b'Ping:', b'266.116', b'ms', b'Download:', b'11.49', b'Mbit/s', b'Upload:', b'3.32', b'Mbit/s', '2023-05-11 23:46:04']\n",
      "Test number: 1\n",
      "[b'Ping:', b'286.789', b'ms', b'Download:', b'31.24', b'Mbit/s', b'Upload:', b'8.64', b'Mbit/s', '2023-05-11 23:46:39']\n",
      "Test number: 2\n",
      "[b'Ping:', b'153.683', b'ms', b'Download:', b'33.84', b'Mbit/s', b'Upload:', b'4.17', b'Mbit/s', '2023-05-11 23:47:13']\n",
      "Test number: 3\n",
      "[b'Ping:', b'206.484', b'ms', b'Download:', b'36.58', b'Mbit/s', b'Upload:', b'11.43', b'Mbit/s', '2023-05-11 23:47:43']\n",
      "Test number: 4\n",
      "[b'Ping:', b'192.326', b'ms', b'Download:', b'34.67', b'Mbit/s', b'Upload:', b'17.52', b'Mbit/s', '2023-05-11 23:48:13']\n",
      "Test number: 5\n",
      "[b'Ping:', b'118.66', b'ms', b'Download:', b'16.85', b'Mbit/s', b'Upload:', b'1.99', b'Mbit/s', '2023-05-11 23:48:43']\n",
      "Test number: 6\n",
      "[b'Ping:', b'221.76', b'ms', b'Download:', b'1.76', b'Mbit/s', b'Upload:', b'7.29', b'Mbit/s', '2023-05-11 23:49:20']\n",
      "Test number: 7\n",
      "[b'Ping:', b'113.135', b'ms', b'Download:', b'2.73', b'Mbit/s', b'Upload:', b'3.81', b'Mbit/s', '2023-05-11 23:49:59']\n",
      "Test number: 8\n",
      "[b'Ping:', b'37.658', b'ms', b'Download:', b'39.62', b'Mbit/s', b'Upload:', b'5.11', b'Mbit/s', '2023-05-11 23:50:32']\n",
      "Test number: 9\n",
      "[b'Ping:', b'127.091', b'ms', b'Download:', b'6.51', b'Mbit/s', b'Upload:', b'4.94', b'Mbit/s', '2023-05-11 23:51:00']\n",
      "Test number: 10\n",
      "[b'Ping:', b'148.167', b'ms', b'Download:', b'2.37', b'Mbit/s', b'Upload:', b'1.60', b'Mbit/s', '2023-05-11 23:51:29']\n",
      "Test number: 11\n",
      "[b'Ping:', b'112.004', b'ms', b'Download:', b'2.51', b'Mbit/s', b'Upload:', b'3.19', b'Mbit/s', '2023-05-11 23:52:01']\n",
      "Test number: 12\n",
      "[b'Ping:', b'82.405', b'ms', b'Download:', b'8.07', b'Mbit/s', b'Upload:', b'2.12', b'Mbit/s', '2023-05-11 23:52:31']\n",
      "Test number: 13\n",
      "[b'Ping:', b'41.202', b'ms', b'Download:', b'18.94', b'Mbit/s', b'Upload:', b'14.41', b'Mbit/s', '2023-05-11 23:52:59']\n",
      "Test number: 14\n",
      "[b'Ping:', b'272.696', b'ms', b'Download:', b'26.93', b'Mbit/s', b'Upload:', b'10.73', b'Mbit/s', '2023-05-11 23:53:24']\n",
      "Test number: 15\n",
      "[b'Ping:', b'265.751', b'ms', b'Download:', b'20.72', b'Mbit/s', b'Upload:', b'2.86', b'Mbit/s', '2023-05-11 23:54:08']\n",
      "Test number: 16\n",
      "[b'Ping:', b'120.697', b'ms', b'Download:', b'12.24', b'Mbit/s', b'Upload:', b'14.03', b'Mbit/s', '2023-05-11 23:54:46']\n",
      "Test number: 17\n",
      "[b'Ping:', b'254.493', b'ms', b'Download:', b'32.13', b'Mbit/s', b'Upload:', b'7.20', b'Mbit/s', '2023-05-11 23:55:18']\n",
      "Test number: 18\n",
      "['2023-05-11 23:56:03']\n",
      "Test number: 19\n",
      "[b'Ping:', b'15.169', b'ms', b'Download:', b'32.67', b'Mbit/s', b'Upload:', b'22.69', b'Mbit/s', '2023-05-11 23:56:16']\n",
      "Test number: 20\n",
      "[b'Ping:', b'21.61', b'ms', b'Download:', b'44.46', b'Mbit/s', b'Upload:', b'16.64', b'Mbit/s', '2023-05-11 23:56:39']\n",
      "Test number: 21\n",
      "[b'Ping:', b'20.333', b'ms', b'Download:', b'10.77', b'Mbit/s', b'Upload:', b'16.24', b'Mbit/s', '2023-05-11 23:57:05']\n",
      "Test number: 22\n",
      "[b'Ping:', b'27.377', b'ms', b'Download:', b'23.85', b'Mbit/s', b'Upload:', b'1.41', b'Mbit/s', '2023-05-11 23:57:28']\n",
      "Test number: 23\n",
      "[b'Ping:', b'13.399', b'ms', b'Download:', b'1.74', b'Mbit/s', b'Upload:', b'2.17', b'Mbit/s', '2023-05-11 23:57:57']\n",
      "Test number: 24\n",
      "[b'Ping:', b'29.104', b'ms', b'Download:', b'3.15', b'Mbit/s', b'Upload:', b'2.85', b'Mbit/s', '2023-05-11 23:58:26']\n",
      "Test number: 25\n",
      "['2023-05-11 23:58:52']\n",
      "Test number: 26\n",
      "['2023-05-11 23:58:53']\n",
      "Test number: 27\n",
      "['2023-05-11 23:58:53']\n",
      "Test number: 28\n",
      "[b'Ping:', b'18.113', b'ms', b'Download:', b'21.43', b'Mbit/s', b'Upload:', b'4.89', b'Mbit/s', '2023-05-11 23:58:53']\n",
      "Test number: 29\n",
      "[b'Ping:', b'14.733', b'ms', b'Download:', b'21.61', b'Mbit/s', b'Upload:', b'1.84', b'Mbit/s', '2023-05-11 23:59:18']\n",
      "Test number: 30\n",
      "[b'Ping:', b'22.036', b'ms', b'Download:', b'12.39', b'Mbit/s', b'Upload:', b'2.30', b'Mbit/s', '2023-05-11 23:59:55']\n",
      "Test number: 31\n",
      "[b'Ping:', b'19.831', b'ms', b'Download:', b'5.13', b'Mbit/s', b'Upload:', b'5.92', b'Mbit/s', '2023-05-12 00:00:19']\n",
      "Test number: 32\n",
      "[b'Ping:', b'24.349', b'ms', b'Download:', b'14.40', b'Mbit/s', b'Upload:', b'14.38', b'Mbit/s', '2023-05-12 00:00:43']\n",
      "Test number: 33\n",
      "[b'Ping:', b'20.521', b'ms', b'Download:', b'33.43', b'Mbit/s', b'Upload:', b'11.87', b'Mbit/s', '2023-05-12 00:01:07']\n",
      "Test number: 34\n",
      "[b'Ping:', b'13.344', b'ms', b'Download:', b'3.88', b'Mbit/s', b'Upload:', b'6.47', b'Mbit/s', '2023-05-12 00:01:29']\n",
      "Test number: 35\n",
      "[b'Ping:', b'14.951', b'ms', b'Download:', b'42.84', b'Mbit/s', b'Upload:', b'6.76', b'Mbit/s', '2023-05-12 00:01:56']\n",
      "Test number: 36\n",
      "[b'Ping:', b'23.482', b'ms', b'Download:', b'10.33', b'Mbit/s', b'Upload:', b'1.33', b'Mbit/s', '2023-05-12 00:02:20']\n",
      "Test number: 37\n",
      "[b'Ping:', b'14.067', b'ms', b'Download:', b'3.24', b'Mbit/s', b'Upload:', b'4.41', b'Mbit/s', '2023-05-12 00:02:50']\n",
      "Test number: 38\n",
      "[b'Ping:', b'13.75', b'ms', b'Download:', b'35.93', b'Mbit/s', b'Upload:', b'10.73', b'Mbit/s', '2023-05-12 00:03:20']\n",
      "Test number: 39\n",
      "[b'Ping:', b'53.775', b'ms', b'Download:', b'8.16', b'Mbit/s', b'Upload:', b'6.91', b'Mbit/s', '2023-05-12 00:03:44']\n",
      "Test number: 40\n",
      "[b'Ping:', b'23.607', b'ms', b'Download:', b'8.12', b'Mbit/s', b'Upload:', b'9.34', b'Mbit/s', '2023-05-12 00:04:10']\n",
      "Test number: 41\n",
      "[b'Ping:', b'12.003', b'ms', b'Download:', b'28.44', b'Mbit/s', b'Upload:', b'1.72', b'Mbit/s', '2023-05-12 00:04:42']\n",
      "Test number: 42\n",
      "[b'Ping:', b'13.139', b'ms', b'Download:', b'12.97', b'Mbit/s', b'Upload:', b'2.40', b'Mbit/s', '2023-05-12 00:05:04']\n",
      "Test number: 43\n",
      "[b'Ping:', b'14.531', b'ms', b'Download:', b'2.73', b'Mbit/s', b'Upload:', b'0.44', b'Mbit/s', '2023-05-12 00:05:28']\n",
      "Test number: 44\n",
      "[b'Ping:', b'14.116', b'ms', b'Download:', b'39.52', b'Mbit/s', b'Upload:', b'11.85', b'Mbit/s', '2023-05-12 00:05:55']\n",
      "Test number: 45\n",
      "[b'Ping:', b'13.354', b'ms', b'Download:', b'21.39', b'Mbit/s', b'Upload:', b'17.65', b'Mbit/s', '2023-05-12 00:06:26']\n",
      "Test number: 46\n",
      "[b'Ping:', b'11.942', b'ms', b'Download:', b'28.07', b'Mbit/s', b'Upload:', b'8.35', b'Mbit/s', '2023-05-12 00:06:48']\n",
      "Test number: 47\n",
      "[b'Ping:', b'25.305', b'ms', b'Download:', b'4.69', b'Mbit/s', b'Upload:', b'15.54', b'Mbit/s', '2023-05-12 00:07:11']\n",
      "Test number: 48\n",
      "[b'Ping:', b'13.656', b'ms', b'Download:', b'33.36', b'Mbit/s', b'Upload:', b'15.44', b'Mbit/s', '2023-05-12 00:07:36']\n",
      "Test number: 49\n",
      "[b'Ping:', b'22.757', b'ms', b'Download:', b'22.31', b'Mbit/s', b'Upload:', b'2.75', b'Mbit/s', '2023-05-12 00:07:58']\n",
      "Test number: 50\n",
      "[b'Ping:', b'12.864', b'ms', b'Download:', b'29.46', b'Mbit/s', b'Upload:', b'7.52', b'Mbit/s', '2023-05-12 00:08:21']\n",
      "Test number: 51\n",
      "[b'Ping:', b'17.616', b'ms', b'Download:', b'14.55', b'Mbit/s', b'Upload:', b'2.46', b'Mbit/s', '2023-05-12 00:08:45']\n",
      "Test number: 52\n",
      "[b'Ping:', b'18.627', b'ms', b'Download:', b'3.82', b'Mbit/s', b'Upload:', b'3.99', b'Mbit/s', '2023-05-12 00:09:10']\n",
      "Test number: 53\n",
      "[b'Ping:', b'48.324', b'ms', b'Download:', b'10.89', b'Mbit/s', b'Upload:', b'8.94', b'Mbit/s', '2023-05-12 00:09:34']\n",
      "Test number: 54\n",
      "[b'Ping:', b'13.27', b'ms', b'Download:', b'3.37', b'Mbit/s', b'Upload:', b'14.35', b'Mbit/s', '2023-05-12 00:10:00']\n",
      "Test number: 55\n",
      "[b'Ping:', b'11.982', b'ms', b'Download:', b'24.66', b'Mbit/s', b'Upload:', b'6.31', b'Mbit/s', '2023-05-12 00:10:23']\n",
      "Test number: 56\n",
      "[b'Ping:', b'13.934', b'ms', b'Download:', b'17.90', b'Mbit/s', b'Upload:', b'4.78', b'Mbit/s', '2023-05-12 00:10:46']\n",
      "Test number: 57\n",
      "[b'Ping:', b'17.015', b'ms', b'Download:', b'13.32', b'Mbit/s', b'Upload:', b'14.31', b'Mbit/s', '2023-05-12 00:11:10']\n",
      "Test number: 58\n",
      "[b'Ping:', b'17.936', b'ms', b'Download:', b'7.36', b'Mbit/s', b'Upload:', b'2.51', b'Mbit/s', '2023-05-12 00:11:40']\n",
      "Test number: 59\n",
      "[b'Ping:', b'27.235', b'ms', b'Download:', b'33.91', b'Mbit/s', b'Upload:', b'15.30', b'Mbit/s', '2023-05-12 00:12:11']\n",
      "Test number: 60\n",
      "[b'Ping:', b'14.923', b'ms', b'Download:', b'21.02', b'Mbit/s', b'Upload:', b'2.26', b'Mbit/s', '2023-05-12 00:12:37']\n",
      "Test number: 61\n",
      "[b'Ping:', b'12.195', b'ms', b'Download:', b'12.82', b'Mbit/s', b'Upload:', b'2.73', b'Mbit/s', '2023-05-12 00:13:02']\n",
      "Test number: 62\n",
      "[b'Ping:', b'16.651', b'ms', b'Download:', b'14.61', b'Mbit/s', b'Upload:', b'2.50', b'Mbit/s', '2023-05-12 00:13:34']\n",
      "Test number: 63\n",
      "[b'Ping:', b'15.251', b'ms', b'Download:', b'24.37', b'Mbit/s', b'Upload:', b'18.76', b'Mbit/s', '2023-05-12 00:13:59']\n"
     ]
    },
    {
     "name": "stdout",
     "output_type": "stream",
     "text": [
      "Test number: 64\n",
      "[b'Ping:', b'14.198', b'ms', b'Download:', b'22.73', b'Mbit/s', b'Upload:', b'13.65', b'Mbit/s', '2023-05-12 00:14:21']\n",
      "Test number: 65\n",
      "[b'Ping:', b'13.963', b'ms', b'Download:', b'24.48', b'Mbit/s', b'Upload:', b'10.07', b'Mbit/s', '2023-05-12 00:14:45']\n",
      "Test number: 66\n",
      "[b'Ping:', b'12.824', b'ms', b'Download:', b'60.18', b'Mbit/s', b'Upload:', b'18.27', b'Mbit/s', '2023-05-12 00:15:08']\n",
      "Test number: 67\n",
      "[b'Ping:', b'22.897', b'ms', b'Download:', b'22.56', b'Mbit/s', b'Upload:', b'11.55', b'Mbit/s', '2023-05-12 00:15:31']\n",
      "Test number: 68\n",
      "[b'Ping:', b'33.593', b'ms', b'Download:', b'42.28', b'Mbit/s', b'Upload:', b'22.34', b'Mbit/s', '2023-05-12 00:15:55']\n",
      "Test number: 69\n",
      "[b'Ping:', b'23.352', b'ms', b'Download:', b'29.89', b'Mbit/s', b'Upload:', b'8.30', b'Mbit/s', '2023-05-12 00:16:20']\n",
      "Test number: 70\n",
      "[b'Ping:', b'18.863', b'ms', b'Download:', b'39.28', b'Mbit/s', b'Upload:', b'2.62', b'Mbit/s', '2023-05-12 00:16:47']\n",
      "Test number: 71\n",
      "[b'Ping:', b'14.621', b'ms', b'Download:', b'6.01', b'Mbit/s', b'Upload:', b'8.20', b'Mbit/s', '2023-05-12 00:17:12']\n",
      "Test number: 72\n",
      "[b'Ping:', b'19.217', b'ms', b'Download:', b'3.59', b'Mbit/s', b'Upload:', b'20.05', b'Mbit/s', '2023-05-12 00:17:38']\n",
      "Test number: 73\n",
      "[b'Ping:', b'18.055', b'ms', b'Download:', b'28.28', b'Mbit/s', b'Upload:', b'18.70', b'Mbit/s', '2023-05-12 00:18:01']\n",
      "Test number: 74\n",
      "[b'Ping:', b'12.713', b'ms', b'Download:', b'21.79', b'Mbit/s', b'Upload:', b'6.78', b'Mbit/s', '2023-05-12 00:18:25']\n",
      "Test number: 75\n",
      "[b'Ping:', b'24.16', b'ms', b'Download:', b'29.89', b'Mbit/s', b'Upload:', b'4.39', b'Mbit/s', '2023-05-12 00:18:48']\n",
      "Test number: 76\n",
      "[b'Ping:', b'13.72', b'ms', b'Download:', b'14.16', b'Mbit/s', b'Upload:', b'3.79', b'Mbit/s', '2023-05-12 00:19:13']\n",
      "Test number: 77\n",
      "[b'Ping:', b'17.517', b'ms', b'Download:', b'13.61', b'Mbit/s', b'Upload:', b'13.93', b'Mbit/s', '2023-05-12 00:19:37']\n",
      "Test number: 78\n",
      "[b'Ping:', b'16.098', b'ms', b'Download:', b'0.76', b'Mbit/s', b'Upload:', b'10.14', b'Mbit/s', '2023-05-12 00:20:01']\n",
      "Test number: 79\n",
      "[b'Ping:', b'26.323', b'ms', b'Download:', b'8.59', b'Mbit/s', b'Upload:', b'4.76', b'Mbit/s', '2023-05-12 00:20:25']\n",
      "Test number: 80\n",
      "[b'Ping:', b'13.597', b'ms', b'Download:', b'8.10', b'Mbit/s', b'Upload:', b'4.29', b'Mbit/s', '2023-05-12 00:20:48']\n",
      "Test number: 81\n",
      "[b'Ping:', b'19.891', b'ms', b'Download:', b'31.90', b'Mbit/s', b'Upload:', b'16.62', b'Mbit/s', '2023-05-12 00:21:11']\n",
      "Test number: 82\n",
      "[b'Ping:', b'15.006', b'ms', b'Download:', b'2.03', b'Mbit/s', b'Upload:', b'20.74', b'Mbit/s', '2023-05-12 00:21:37']\n",
      "Test number: 83\n",
      "[b'Ping:', b'17.003', b'ms', b'Download:', b'32.10', b'Mbit/s', b'Upload:', b'13.41', b'Mbit/s', '2023-05-12 00:22:00']\n",
      "Test number: 84\n",
      "[b'Ping:', b'14.548', b'ms', b'Download:', b'38.00', b'Mbit/s', b'Upload:', b'4.20', b'Mbit/s', '2023-05-12 00:22:24']\n",
      "Test number: 85\n",
      "[b'Ping:', b'13.393', b'ms', b'Download:', b'20.90', b'Mbit/s', b'Upload:', b'4.67', b'Mbit/s', '2023-05-12 00:22:49']\n",
      "Test number: 86\n",
      "[b'Ping:', b'12.39', b'ms', b'Download:', b'44.07', b'Mbit/s', b'Upload:', b'25.97', b'Mbit/s', '2023-05-12 00:23:13']\n",
      "Test number: 87\n",
      "[b'Ping:', b'12.277', b'ms', b'Download:', b'36.66', b'Mbit/s', b'Upload:', b'11.21', b'Mbit/s', '2023-05-12 00:23:35']\n",
      "Test number: 88\n",
      "[b'Ping:', b'18.173', b'ms', b'Download:', b'4.58', b'Mbit/s', b'Upload:', b'1.27', b'Mbit/s', '2023-05-12 00:23:57']\n",
      "Test number: 89\n",
      "[b'Ping:', b'19.14', b'ms', b'Download:', b'9.19', b'Mbit/s', b'Upload:', b'8.93', b'Mbit/s', '2023-05-12 00:24:28']\n",
      "Test number: 90\n",
      "[b'Ping:', b'22.395', b'ms', b'Download:', b'3.40', b'Mbit/s', b'Upload:', b'12.82', b'Mbit/s', '2023-05-12 00:25:01']\n",
      "Test number: 91\n",
      "[b'Ping:', b'16.26', b'ms', b'Download:', b'12.10', b'Mbit/s', b'Upload:', b'15.79', b'Mbit/s', '2023-05-12 00:25:28']\n",
      "Test number: 92\n",
      "[b'Ping:', b'14.017', b'ms', b'Download:', b'36.23', b'Mbit/s', b'Upload:', b'11.36', b'Mbit/s', '2023-05-12 00:25:51']\n",
      "Test number: 93\n",
      "[b'Ping:', b'13.772', b'ms', b'Download:', b'14.84', b'Mbit/s', b'Upload:', b'0.96', b'Mbit/s', '2023-05-12 00:26:13']\n",
      "Test number: 94\n",
      "[b'Ping:', b'18.68', b'ms', b'Download:', b'2.12', b'Mbit/s', b'Upload:', b'1.58', b'Mbit/s', '2023-05-12 00:26:41']\n",
      "Test number: 95\n",
      "[b'Ping:', b'22.904', b'ms', b'Download:', b'1.85', b'Mbit/s', b'Upload:', b'7.11', b'Mbit/s', '2023-05-12 00:27:09']\n",
      "Test number: 96\n",
      "[b'Ping:', b'11.963', b'ms', b'Download:', b'26.42', b'Mbit/s', b'Upload:', b'12.18', b'Mbit/s', '2023-05-12 00:27:34']\n",
      "Test number: 97\n",
      "[b'Ping:', b'14.454', b'ms', b'Download:', b'34.48', b'Mbit/s', b'Upload:', b'7.96', b'Mbit/s', '2023-05-12 00:27:57']\n",
      "Test number: 98\n",
      "[b'Ping:', b'19.09', b'ms', b'Download:', b'31.92', b'Mbit/s', b'Upload:', b'14.65', b'Mbit/s', '2023-05-12 00:28:20']\n",
      "Test number: 99\n",
      "[b'Ping:', b'21.82', b'ms', b'Download:', b'32.54', b'Mbit/s', b'Upload:', b'11.96', b'Mbit/s', '2023-05-12 00:28:44']\n"
     ]
    }
   ],
   "source": [
    "# Code cell 18\n",
    "# Code to run 100 times\n",
    "for i in range(100):\n",
    "     speedtest_output = speedtest()\n",
    "     print(\"Test number: {}\".format(i))\n",
    "     print(speedtest_output)\n",
    "     save_to_csv(speedtest_output, 'tmp/rpi_data')"
   ]
  },
  {
   "cell_type": "markdown",
   "id": "ce1921fd",
   "metadata": {},
   "source": [
    "## Parte 2: Manipular los datos\n",
    "Los biblioteca de Python 'pandas' es muy útil para trabajar con datos estructurados. La documentación completa se encuentra aquí: http://pandas.pydata.org/pandas-docs/version/0.14.1/</font>\n",
    "Se utilizará un conjunto de datos más grande recopilado de antemano para esta parte de la práctica de laboratorio. El nombre de archivo es 'rpi_data_long.csv'.\n",
    "### Paso 1: Importar las bibliotecas de Python.\n",
    "\n",
    "Importe 'pandas' y otras bibliotecas utilizadas para las siguientes tareas."
   ]
  },
  {
   "cell_type": "code",
   "execution_count": 51,
   "id": "dc71e177",
   "metadata": {},
   "outputs": [],
   "source": [
    "# Code cell 19\n",
    "import datetime\n",
    "import csv\n",
    "import pandas as pd\n",
    "# NumPy is a library that adds support for large, multi-dimensional arrays and matrices\n",
    "# along with high-level mathematical functions to operate on these arrays\n",
    "import numpy as np"
   ]
  },
  {
   "cell_type": "markdown",
   "id": "1a96bbb8",
   "metadata": {},
   "source": [
    "## Paso 2: Cargar el archivo 'csv' en un objeto 'DataFrame' mediante el uso de 'pandas'.\n",
    "Un 'pandas DataFrame' es una estructura de datos etiquetada de 2 dimensiones con columnas de tipos potencialmente diferentes. Puede verlo como una hoja de cálculo o una tabla de SQL. La función de la biblioteca pandas 'read_csv' convierte automáticamente un archivo 'csv' en un objeto 'DataFrame'.\n",
    "\n",
    "Lea la documentación de 'read_csv' en http://pandas.pydata.org/pandas-docs/version/0.14.1/generated/pandas.read_csv.html. Esta función contiene muchos parámetros. El único no opcional es 'filepath', es decir, la ubicación del archivo 'csv'. Todos los demás parámetros son opcionales.\n",
    "\n",
    "En este paso, importará y verá el contenido del archivo csv, 'rpi_data_long.csv'. Esto archivo csv se encuentra en el mismo directorio que esta notebook de Jupyter.\n",
    "\n",
    "a) Asigne el archivo 'rpi_data_long.csv' a la variable 'data_file'."
   ]
  },
  {
   "cell_type": "code",
   "execution_count": 1,
   "id": "523ecb6d",
   "metadata": {},
   "outputs": [],
   "source": [
    "# Code cell 20\n",
    "data_file = 'Data/rpi_data_long.csv'"
   ]
  },
  {
   "cell_type": "markdown",
   "id": "4fb2ae52",
   "metadata": {},
   "source": [
    "b) Utilice el comando 'head' de Linux para ver las primeras 10 líneas del archivo csv."
   ]
  },
  {
   "cell_type": "code",
   "execution_count": 36,
   "id": "ee4482cb",
   "metadata": {},
   "outputs": [
    {
     "name": "stdout",
     "output_type": "stream",
     "text": [
      "Ping:,26.992,ms,Download:,91.80,Mbit/s,Upload:,14.31,Mbit/s,2016-11-24 13:36:25\n",
      "Ping:,24.532,ms,Download:,88.19,Mbit/s,Upload:,14.12,Mbit/s,2016-11-24 13:36:55\n",
      "Ping:,20.225,ms,Download:,59.86,Mbit/s,Upload:,14.11,Mbit/s,2016-11-24 13:37:25\n",
      "Ping:,19.332,ms,Download:,91.81,Mbit/s,Upload:,14.22,Mbit/s,2016-11-24 13:37:57\n",
      "Ping:,22.494,ms,Download:,92.05,Mbit/s,Upload:,14.08,Mbit/s,2016-11-24 13:38:27\n",
      "Ping:,17.586,ms,Download:,91.88,Mbit/s,Upload:,14.18,Mbit/s,2016-11-24 13:39:01\n",
      "Ping:,21.835,ms,Download:,92.18,Mbit/s,Upload:,14.07,Mbit/s,2016-11-24 13:39:30\n",
      "Ping:,20.464,ms,Download:,92.05,Mbit/s,Upload:,14.13,Mbit/s,2016-11-24 13:40:00\n",
      "Ping:,19.293,ms,Download:,90.79,Mbit/s,Upload:,14.14,Mbit/s,2016-11-24 13:40:30\n",
      "Ping:,20.354,ms,Download:,92.64,Mbit/s,Upload:,14.07,Mbit/s,2016-11-24 13:41:00\n"
     ]
    }
   ],
   "source": [
    "# Code cell 21\n",
    "!head -n 10 Data/rpi_data_long.csv"
   ]
  },
  {
   "cell_type": "markdown",
   "id": "5bcc15f1",
   "metadata": {},
   "source": [
    "c) Utilice el parámetro 'names' de la función 'read_csv' para especificar el nombre de las columnas de 'DataFrame'."
   ]
  },
  {
   "cell_type": "code",
   "execution_count": 3,
   "id": "8adb3823",
   "metadata": {},
   "outputs": [],
   "source": [
    "# Code cell 22\n",
    "column_names = [ 'Type A', 'Measure A', 'Units A',\n",
    "                 'Type B', 'Measure B', 'Units B',\n",
    "                 'Type C', 'Measure C', 'Units C', \n",
    "                 'Datetime']"
   ]
  },
  {
   "cell_type": "markdown",
   "id": "56277b68",
   "metadata": {},
   "source": [
    "d) Utilice la función 'read_csv' para leer de 'data_file' y asigne 'column_names' como los nombres de columna en el marco de datos."
   ]
  },
  {
   "cell_type": "code",
   "execution_count": 6,
   "id": "08d23851",
   "metadata": {},
   "outputs": [],
   "source": [
    "# Code cell 23\n",
    "with open(data_file, 'r') as f:\n",
    "    df_redundant = pd.read_csv(f, names = column_names)"
   ]
  },
  {
   "cell_type": "markdown",
   "id": "7da04b9e",
   "metadata": {},
   "source": [
    "e) El comando 'head()' muestra las primeras filas del marco de datos."
   ]
  },
  {
   "cell_type": "code",
   "execution_count": 37,
   "id": "e3f9ff5d",
   "metadata": {},
   "outputs": [
    {
     "data": {
      "text/html": [
       "<div>\n",
       "<style scoped>\n",
       "    .dataframe tbody tr th:only-of-type {\n",
       "        vertical-align: middle;\n",
       "    }\n",
       "\n",
       "    .dataframe tbody tr th {\n",
       "        vertical-align: top;\n",
       "    }\n",
       "\n",
       "    .dataframe thead th {\n",
       "        text-align: right;\n",
       "    }\n",
       "</style>\n",
       "<table border=\"1\" class=\"dataframe\">\n",
       "  <thead>\n",
       "    <tr style=\"text-align: right;\">\n",
       "      <th></th>\n",
       "      <th>Type A</th>\n",
       "      <th>Measure A</th>\n",
       "      <th>Units A</th>\n",
       "      <th>Type B</th>\n",
       "      <th>Measure B</th>\n",
       "      <th>Units B</th>\n",
       "      <th>Type C</th>\n",
       "      <th>Measure C</th>\n",
       "      <th>Units C</th>\n",
       "      <th>Datetime</th>\n",
       "    </tr>\n",
       "  </thead>\n",
       "  <tbody>\n",
       "    <tr>\n",
       "      <th>0</th>\n",
       "      <td>Ping:</td>\n",
       "      <td>26.992</td>\n",
       "      <td>ms</td>\n",
       "      <td>Download:</td>\n",
       "      <td>91.80</td>\n",
       "      <td>Mbit/s</td>\n",
       "      <td>Upload:</td>\n",
       "      <td>14.31</td>\n",
       "      <td>Mbit/s</td>\n",
       "      <td>2016-11-24 13:36:25</td>\n",
       "    </tr>\n",
       "    <tr>\n",
       "      <th>1</th>\n",
       "      <td>Ping:</td>\n",
       "      <td>24.532</td>\n",
       "      <td>ms</td>\n",
       "      <td>Download:</td>\n",
       "      <td>88.19</td>\n",
       "      <td>Mbit/s</td>\n",
       "      <td>Upload:</td>\n",
       "      <td>14.12</td>\n",
       "      <td>Mbit/s</td>\n",
       "      <td>2016-11-24 13:36:55</td>\n",
       "    </tr>\n",
       "    <tr>\n",
       "      <th>2</th>\n",
       "      <td>Ping:</td>\n",
       "      <td>20.225</td>\n",
       "      <td>ms</td>\n",
       "      <td>Download:</td>\n",
       "      <td>59.86</td>\n",
       "      <td>Mbit/s</td>\n",
       "      <td>Upload:</td>\n",
       "      <td>14.11</td>\n",
       "      <td>Mbit/s</td>\n",
       "      <td>2016-11-24 13:37:25</td>\n",
       "    </tr>\n",
       "    <tr>\n",
       "      <th>3</th>\n",
       "      <td>Ping:</td>\n",
       "      <td>19.332</td>\n",
       "      <td>ms</td>\n",
       "      <td>Download:</td>\n",
       "      <td>91.81</td>\n",
       "      <td>Mbit/s</td>\n",
       "      <td>Upload:</td>\n",
       "      <td>14.22</td>\n",
       "      <td>Mbit/s</td>\n",
       "      <td>2016-11-24 13:37:57</td>\n",
       "    </tr>\n",
       "    <tr>\n",
       "      <th>4</th>\n",
       "      <td>Ping:</td>\n",
       "      <td>22.494</td>\n",
       "      <td>ms</td>\n",
       "      <td>Download:</td>\n",
       "      <td>92.05</td>\n",
       "      <td>Mbit/s</td>\n",
       "      <td>Upload:</td>\n",
       "      <td>14.08</td>\n",
       "      <td>Mbit/s</td>\n",
       "      <td>2016-11-24 13:38:27</td>\n",
       "    </tr>\n",
       "  </tbody>\n",
       "</table>\n",
       "</div>"
      ],
      "text/plain": [
       "  Type A Measure A Units A     Type B Measure B Units B   Type C  Measure C  \\\n",
       "0  Ping:    26.992      ms  Download:     91.80  Mbit/s  Upload:      14.31   \n",
       "1  Ping:    24.532      ms  Download:     88.19  Mbit/s  Upload:      14.12   \n",
       "2  Ping:    20.225      ms  Download:     59.86  Mbit/s  Upload:      14.11   \n",
       "3  Ping:    19.332      ms  Download:     91.81  Mbit/s  Upload:      14.22   \n",
       "4  Ping:    22.494      ms  Download:     92.05  Mbit/s  Upload:      14.08   \n",
       "\n",
       "  Units C             Datetime  \n",
       "0  Mbit/s  2016-11-24 13:36:25  \n",
       "1  Mbit/s  2016-11-24 13:36:55  \n",
       "2  Mbit/s  2016-11-24 13:37:25  \n",
       "3  Mbit/s  2016-11-24 13:37:57  \n",
       "4  Mbit/s  2016-11-24 13:38:27  "
      ]
     },
     "execution_count": 37,
     "metadata": {},
     "output_type": "execute_result"
    }
   ],
   "source": [
    "# Code cell 24\n",
    "# You can specify the number of rows you want to print to screen: \n",
    "# you do so passing the number as an argument to the function\n",
    "# (e.g., head(10))\n",
    "df_redundant.head()"
   ]
  },
  {
   "cell_type": "markdown",
   "id": "13a592da",
   "metadata": {},
   "source": [
    "¿Cuál es el código para leer las primeras 20 líneas del archivo csv?\n",
    "\n",
    "El codigo es df_redundant.head(numero_de_filas_a_mostrar)"
   ]
  },
  {
   "cell_type": "code",
   "execution_count": 8,
   "id": "3561cce3",
   "metadata": {},
   "outputs": [
    {
     "data": {
      "text/html": [
       "<div>\n",
       "<style scoped>\n",
       "    .dataframe tbody tr th:only-of-type {\n",
       "        vertical-align: middle;\n",
       "    }\n",
       "\n",
       "    .dataframe tbody tr th {\n",
       "        vertical-align: top;\n",
       "    }\n",
       "\n",
       "    .dataframe thead th {\n",
       "        text-align: right;\n",
       "    }\n",
       "</style>\n",
       "<table border=\"1\" class=\"dataframe\">\n",
       "  <thead>\n",
       "    <tr style=\"text-align: right;\">\n",
       "      <th></th>\n",
       "      <th>Type A</th>\n",
       "      <th>Measure A</th>\n",
       "      <th>Units A</th>\n",
       "      <th>Type B</th>\n",
       "      <th>Measure B</th>\n",
       "      <th>Units B</th>\n",
       "      <th>Type C</th>\n",
       "      <th>Measure C</th>\n",
       "      <th>Units C</th>\n",
       "      <th>Datetime</th>\n",
       "    </tr>\n",
       "  </thead>\n",
       "  <tbody>\n",
       "    <tr>\n",
       "      <th>0</th>\n",
       "      <td>Ping:</td>\n",
       "      <td>26.992</td>\n",
       "      <td>ms</td>\n",
       "      <td>Download:</td>\n",
       "      <td>91.80</td>\n",
       "      <td>Mbit/s</td>\n",
       "      <td>Upload:</td>\n",
       "      <td>14.31</td>\n",
       "      <td>Mbit/s</td>\n",
       "      <td>2016-11-24 13:36:25</td>\n",
       "    </tr>\n",
       "    <tr>\n",
       "      <th>1</th>\n",
       "      <td>Ping:</td>\n",
       "      <td>24.532</td>\n",
       "      <td>ms</td>\n",
       "      <td>Download:</td>\n",
       "      <td>88.19</td>\n",
       "      <td>Mbit/s</td>\n",
       "      <td>Upload:</td>\n",
       "      <td>14.12</td>\n",
       "      <td>Mbit/s</td>\n",
       "      <td>2016-11-24 13:36:55</td>\n",
       "    </tr>\n",
       "    <tr>\n",
       "      <th>2</th>\n",
       "      <td>Ping:</td>\n",
       "      <td>20.225</td>\n",
       "      <td>ms</td>\n",
       "      <td>Download:</td>\n",
       "      <td>59.86</td>\n",
       "      <td>Mbit/s</td>\n",
       "      <td>Upload:</td>\n",
       "      <td>14.11</td>\n",
       "      <td>Mbit/s</td>\n",
       "      <td>2016-11-24 13:37:25</td>\n",
       "    </tr>\n",
       "    <tr>\n",
       "      <th>3</th>\n",
       "      <td>Ping:</td>\n",
       "      <td>19.332</td>\n",
       "      <td>ms</td>\n",
       "      <td>Download:</td>\n",
       "      <td>91.81</td>\n",
       "      <td>Mbit/s</td>\n",
       "      <td>Upload:</td>\n",
       "      <td>14.22</td>\n",
       "      <td>Mbit/s</td>\n",
       "      <td>2016-11-24 13:37:57</td>\n",
       "    </tr>\n",
       "    <tr>\n",
       "      <th>4</th>\n",
       "      <td>Ping:</td>\n",
       "      <td>22.494</td>\n",
       "      <td>ms</td>\n",
       "      <td>Download:</td>\n",
       "      <td>92.05</td>\n",
       "      <td>Mbit/s</td>\n",
       "      <td>Upload:</td>\n",
       "      <td>14.08</td>\n",
       "      <td>Mbit/s</td>\n",
       "      <td>2016-11-24 13:38:27</td>\n",
       "    </tr>\n",
       "    <tr>\n",
       "      <th>5</th>\n",
       "      <td>Ping:</td>\n",
       "      <td>17.586</td>\n",
       "      <td>ms</td>\n",
       "      <td>Download:</td>\n",
       "      <td>91.88</td>\n",
       "      <td>Mbit/s</td>\n",
       "      <td>Upload:</td>\n",
       "      <td>14.18</td>\n",
       "      <td>Mbit/s</td>\n",
       "      <td>2016-11-24 13:39:01</td>\n",
       "    </tr>\n",
       "    <tr>\n",
       "      <th>6</th>\n",
       "      <td>Ping:</td>\n",
       "      <td>21.835</td>\n",
       "      <td>ms</td>\n",
       "      <td>Download:</td>\n",
       "      <td>92.18</td>\n",
       "      <td>Mbit/s</td>\n",
       "      <td>Upload:</td>\n",
       "      <td>14.07</td>\n",
       "      <td>Mbit/s</td>\n",
       "      <td>2016-11-24 13:39:30</td>\n",
       "    </tr>\n",
       "    <tr>\n",
       "      <th>7</th>\n",
       "      <td>Ping:</td>\n",
       "      <td>20.464</td>\n",
       "      <td>ms</td>\n",
       "      <td>Download:</td>\n",
       "      <td>92.05</td>\n",
       "      <td>Mbit/s</td>\n",
       "      <td>Upload:</td>\n",
       "      <td>14.13</td>\n",
       "      <td>Mbit/s</td>\n",
       "      <td>2016-11-24 13:40:00</td>\n",
       "    </tr>\n",
       "    <tr>\n",
       "      <th>8</th>\n",
       "      <td>Ping:</td>\n",
       "      <td>19.293</td>\n",
       "      <td>ms</td>\n",
       "      <td>Download:</td>\n",
       "      <td>90.79</td>\n",
       "      <td>Mbit/s</td>\n",
       "      <td>Upload:</td>\n",
       "      <td>14.14</td>\n",
       "      <td>Mbit/s</td>\n",
       "      <td>2016-11-24 13:40:30</td>\n",
       "    </tr>\n",
       "    <tr>\n",
       "      <th>9</th>\n",
       "      <td>Ping:</td>\n",
       "      <td>20.354</td>\n",
       "      <td>ms</td>\n",
       "      <td>Download:</td>\n",
       "      <td>92.64</td>\n",
       "      <td>Mbit/s</td>\n",
       "      <td>Upload:</td>\n",
       "      <td>14.07</td>\n",
       "      <td>Mbit/s</td>\n",
       "      <td>2016-11-24 13:41:00</td>\n",
       "    </tr>\n",
       "    <tr>\n",
       "      <th>10</th>\n",
       "      <td>Ping:</td>\n",
       "      <td>19.01</td>\n",
       "      <td>ms</td>\n",
       "      <td>Download:</td>\n",
       "      <td>91.86</td>\n",
       "      <td>Mbit/s</td>\n",
       "      <td>Upload:</td>\n",
       "      <td>14.38</td>\n",
       "      <td>Mbit/s</td>\n",
       "      <td>2016-11-24 13:41:30</td>\n",
       "    </tr>\n",
       "    <tr>\n",
       "      <th>11</th>\n",
       "      <td>Ping:</td>\n",
       "      <td>18.092</td>\n",
       "      <td>ms</td>\n",
       "      <td>Download:</td>\n",
       "      <td>92.24</td>\n",
       "      <td>Mbit/s</td>\n",
       "      <td>Upload:</td>\n",
       "      <td>14.23</td>\n",
       "      <td>Mbit/s</td>\n",
       "      <td>2016-11-24 13:42:00</td>\n",
       "    </tr>\n",
       "    <tr>\n",
       "      <th>12</th>\n",
       "      <td>Ping:</td>\n",
       "      <td>18.137</td>\n",
       "      <td>ms</td>\n",
       "      <td>Download:</td>\n",
       "      <td>91.64</td>\n",
       "      <td>Mbit/s</td>\n",
       "      <td>Upload:</td>\n",
       "      <td>14.32</td>\n",
       "      <td>Mbit/s</td>\n",
       "      <td>2016-11-24 13:42:30</td>\n",
       "    </tr>\n",
       "    <tr>\n",
       "      <th>13</th>\n",
       "      <td>Ping:</td>\n",
       "      <td>18.344</td>\n",
       "      <td>ms</td>\n",
       "      <td>Download:</td>\n",
       "      <td>92.85</td>\n",
       "      <td>Mbit/s</td>\n",
       "      <td>Upload:</td>\n",
       "      <td>14.20</td>\n",
       "      <td>Mbit/s</td>\n",
       "      <td>2016-11-24 13:43:00</td>\n",
       "    </tr>\n",
       "    <tr>\n",
       "      <th>14</th>\n",
       "      <td>Ping:</td>\n",
       "      <td>23.328</td>\n",
       "      <td>ms</td>\n",
       "      <td>Download:</td>\n",
       "      <td>92.21</td>\n",
       "      <td>Mbit/s</td>\n",
       "      <td>Upload:</td>\n",
       "      <td>14.20</td>\n",
       "      <td>Mbit/s</td>\n",
       "      <td>2016-11-24 13:43:29</td>\n",
       "    </tr>\n",
       "    <tr>\n",
       "      <th>15</th>\n",
       "      <td>Ping:</td>\n",
       "      <td>17.908</td>\n",
       "      <td>ms</td>\n",
       "      <td>Download:</td>\n",
       "      <td>92.24</td>\n",
       "      <td>Mbit/s</td>\n",
       "      <td>Upload:</td>\n",
       "      <td>11.36</td>\n",
       "      <td>Mbit/s</td>\n",
       "      <td>2016-11-24 13:43:59</td>\n",
       "    </tr>\n",
       "    <tr>\n",
       "      <th>16</th>\n",
       "      <td>Ping:</td>\n",
       "      <td>19.291</td>\n",
       "      <td>ms</td>\n",
       "      <td>Download:</td>\n",
       "      <td>92.41</td>\n",
       "      <td>Mbit/s</td>\n",
       "      <td>Upload:</td>\n",
       "      <td>14.03</td>\n",
       "      <td>Mbit/s</td>\n",
       "      <td>2016-11-24 13:44:31</td>\n",
       "    </tr>\n",
       "    <tr>\n",
       "      <th>17</th>\n",
       "      <td>Ping:</td>\n",
       "      <td>20.117</td>\n",
       "      <td>ms</td>\n",
       "      <td>Download:</td>\n",
       "      <td>90.39</td>\n",
       "      <td>Mbit/s</td>\n",
       "      <td>Upload:</td>\n",
       "      <td>14.17</td>\n",
       "      <td>Mbit/s</td>\n",
       "      <td>2016-11-24 13:45:01</td>\n",
       "    </tr>\n",
       "    <tr>\n",
       "      <th>18</th>\n",
       "      <td>Ping:</td>\n",
       "      <td>19.579</td>\n",
       "      <td>ms</td>\n",
       "      <td>Download:</td>\n",
       "      <td>92.55</td>\n",
       "      <td>Mbit/s</td>\n",
       "      <td>Upload:</td>\n",
       "      <td>14.06</td>\n",
       "      <td>Mbit/s</td>\n",
       "      <td>2016-11-24 13:45:32</td>\n",
       "    </tr>\n",
       "    <tr>\n",
       "      <th>19</th>\n",
       "      <td>Ping:</td>\n",
       "      <td>16.364</td>\n",
       "      <td>ms</td>\n",
       "      <td>Download:</td>\n",
       "      <td>78.51</td>\n",
       "      <td>Mbit/s</td>\n",
       "      <td>Upload:</td>\n",
       "      <td>13.71</td>\n",
       "      <td>Mbit/s</td>\n",
       "      <td>2016-11-24 13:46:02</td>\n",
       "    </tr>\n",
       "  </tbody>\n",
       "</table>\n",
       "</div>"
      ],
      "text/plain": [
       "   Type A Measure A Units A     Type B Measure B Units B   Type C  Measure C  \\\n",
       "0   Ping:    26.992      ms  Download:     91.80  Mbit/s  Upload:      14.31   \n",
       "1   Ping:    24.532      ms  Download:     88.19  Mbit/s  Upload:      14.12   \n",
       "2   Ping:    20.225      ms  Download:     59.86  Mbit/s  Upload:      14.11   \n",
       "3   Ping:    19.332      ms  Download:     91.81  Mbit/s  Upload:      14.22   \n",
       "4   Ping:    22.494      ms  Download:     92.05  Mbit/s  Upload:      14.08   \n",
       "5   Ping:    17.586      ms  Download:     91.88  Mbit/s  Upload:      14.18   \n",
       "6   Ping:    21.835      ms  Download:     92.18  Mbit/s  Upload:      14.07   \n",
       "7   Ping:    20.464      ms  Download:     92.05  Mbit/s  Upload:      14.13   \n",
       "8   Ping:    19.293      ms  Download:     90.79  Mbit/s  Upload:      14.14   \n",
       "9   Ping:    20.354      ms  Download:     92.64  Mbit/s  Upload:      14.07   \n",
       "10  Ping:     19.01      ms  Download:     91.86  Mbit/s  Upload:      14.38   \n",
       "11  Ping:    18.092      ms  Download:     92.24  Mbit/s  Upload:      14.23   \n",
       "12  Ping:    18.137      ms  Download:     91.64  Mbit/s  Upload:      14.32   \n",
       "13  Ping:    18.344      ms  Download:     92.85  Mbit/s  Upload:      14.20   \n",
       "14  Ping:    23.328      ms  Download:     92.21  Mbit/s  Upload:      14.20   \n",
       "15  Ping:    17.908      ms  Download:     92.24  Mbit/s  Upload:      11.36   \n",
       "16  Ping:    19.291      ms  Download:     92.41  Mbit/s  Upload:      14.03   \n",
       "17  Ping:    20.117      ms  Download:     90.39  Mbit/s  Upload:      14.17   \n",
       "18  Ping:    19.579      ms  Download:     92.55  Mbit/s  Upload:      14.06   \n",
       "19  Ping:    16.364      ms  Download:     78.51  Mbit/s  Upload:      13.71   \n",
       "\n",
       "   Units C             Datetime  \n",
       "0   Mbit/s  2016-11-24 13:36:25  \n",
       "1   Mbit/s  2016-11-24 13:36:55  \n",
       "2   Mbit/s  2016-11-24 13:37:25  \n",
       "3   Mbit/s  2016-11-24 13:37:57  \n",
       "4   Mbit/s  2016-11-24 13:38:27  \n",
       "5   Mbit/s  2016-11-24 13:39:01  \n",
       "6   Mbit/s  2016-11-24 13:39:30  \n",
       "7   Mbit/s  2016-11-24 13:40:00  \n",
       "8   Mbit/s  2016-11-24 13:40:30  \n",
       "9   Mbit/s  2016-11-24 13:41:00  \n",
       "10  Mbit/s  2016-11-24 13:41:30  \n",
       "11  Mbit/s  2016-11-24 13:42:00  \n",
       "12  Mbit/s  2016-11-24 13:42:30  \n",
       "13  Mbit/s  2016-11-24 13:43:00  \n",
       "14  Mbit/s  2016-11-24 13:43:29  \n",
       "15  Mbit/s  2016-11-24 13:43:59  \n",
       "16  Mbit/s  2016-11-24 13:44:31  \n",
       "17  Mbit/s  2016-11-24 13:45:01  \n",
       "18  Mbit/s  2016-11-24 13:45:32  \n",
       "19  Mbit/s  2016-11-24 13:46:02  "
      ]
     },
     "execution_count": 8,
     "metadata": {},
     "output_type": "execute_result"
    }
   ],
   "source": [
    "df_redundant.head(20)"
   ]
  },
  {
   "cell_type": "markdown",
   "id": "0a8a6acc",
   "metadata": {},
   "source": [
    "## Paso 3: Crear una representación concisa.\n",
    "En este paso, creará una representación más compacta mediante una copia del marco de datos 'df_redundant'.\n",
    "\n",
    "a) Copie 'df_redundant' en otro marco de datos llamado 'df_compact' mediante 'copy()'."
   ]
  },
  {
   "cell_type": "code",
   "execution_count": 9,
   "id": "4f521d88",
   "metadata": {},
   "outputs": [],
   "source": [
    "# Code cell 25\n",
    "df_compact = df_redundant.copy()"
   ]
  },
  {
   "cell_type": "markdown",
   "id": "8f1e2af4",
   "metadata": {},
   "source": [
    "b) Cambie el nombre de las columnas en relación con las medidas como se muestra:\n",
    "\n",
    "    Medida A -> Ping (ms)\n",
    "    Medida B -> Descargar (Mbit/s)\n",
    "    Medida C -> Cargar (Mbit/s)"
   ]
  },
  {
   "cell_type": "code",
   "execution_count": 10,
   "id": "e28399b9",
   "metadata": {},
   "outputs": [
    {
     "data": {
      "text/html": [
       "<div>\n",
       "<style scoped>\n",
       "    .dataframe tbody tr th:only-of-type {\n",
       "        vertical-align: middle;\n",
       "    }\n",
       "\n",
       "    .dataframe tbody tr th {\n",
       "        vertical-align: top;\n",
       "    }\n",
       "\n",
       "    .dataframe thead th {\n",
       "        text-align: right;\n",
       "    }\n",
       "</style>\n",
       "<table border=\"1\" class=\"dataframe\">\n",
       "  <thead>\n",
       "    <tr style=\"text-align: right;\">\n",
       "      <th></th>\n",
       "      <th>Type A</th>\n",
       "      <th>Ping (ms)</th>\n",
       "      <th>Units A</th>\n",
       "      <th>Type B</th>\n",
       "      <th>Download (Mbit/s)</th>\n",
       "      <th>Units B</th>\n",
       "      <th>Type C</th>\n",
       "      <th>Upload (Mbit/s)</th>\n",
       "      <th>Units C</th>\n",
       "      <th>Datetime</th>\n",
       "    </tr>\n",
       "  </thead>\n",
       "  <tbody>\n",
       "    <tr>\n",
       "      <th>0</th>\n",
       "      <td>Ping:</td>\n",
       "      <td>26.992</td>\n",
       "      <td>ms</td>\n",
       "      <td>Download:</td>\n",
       "      <td>91.80</td>\n",
       "      <td>Mbit/s</td>\n",
       "      <td>Upload:</td>\n",
       "      <td>14.31</td>\n",
       "      <td>Mbit/s</td>\n",
       "      <td>2016-11-24 13:36:25</td>\n",
       "    </tr>\n",
       "    <tr>\n",
       "      <th>1</th>\n",
       "      <td>Ping:</td>\n",
       "      <td>24.532</td>\n",
       "      <td>ms</td>\n",
       "      <td>Download:</td>\n",
       "      <td>88.19</td>\n",
       "      <td>Mbit/s</td>\n",
       "      <td>Upload:</td>\n",
       "      <td>14.12</td>\n",
       "      <td>Mbit/s</td>\n",
       "      <td>2016-11-24 13:36:55</td>\n",
       "    </tr>\n",
       "    <tr>\n",
       "      <th>2</th>\n",
       "      <td>Ping:</td>\n",
       "      <td>20.225</td>\n",
       "      <td>ms</td>\n",
       "      <td>Download:</td>\n",
       "      <td>59.86</td>\n",
       "      <td>Mbit/s</td>\n",
       "      <td>Upload:</td>\n",
       "      <td>14.11</td>\n",
       "      <td>Mbit/s</td>\n",
       "      <td>2016-11-24 13:37:25</td>\n",
       "    </tr>\n",
       "  </tbody>\n",
       "</table>\n",
       "</div>"
      ],
      "text/plain": [
       "  Type A Ping (ms) Units A     Type B Download (Mbit/s) Units B   Type C  \\\n",
       "0  Ping:    26.992      ms  Download:             91.80  Mbit/s  Upload:   \n",
       "1  Ping:    24.532      ms  Download:             88.19  Mbit/s  Upload:   \n",
       "2  Ping:    20.225      ms  Download:             59.86  Mbit/s  Upload:   \n",
       "\n",
       "   Upload (Mbit/s) Units C             Datetime  \n",
       "0            14.31  Mbit/s  2016-11-24 13:36:25  \n",
       "1            14.12  Mbit/s  2016-11-24 13:36:55  \n",
       "2            14.11  Mbit/s  2016-11-24 13:37:25  "
      ]
     },
     "execution_count": 10,
     "metadata": {},
     "output_type": "execute_result"
    }
   ],
   "source": [
    "# Code cell 26\n",
    "df_compact.rename(columns={'Measure A':'Ping (ms)', \n",
    "                           'Measure B': 'Download (Mbit/s)',\n",
    "                           'Measure C': 'Upload (Mbit/s)'}, inplace=True)\n",
    "df_compact.head(3)"
   ]
  },
  {
   "cell_type": "markdown",
   "id": "694b4b23",
   "metadata": {},
   "source": [
    "c) Como las columnas de los tipos y las unidades ya no son necesarias, estas columnas pueden descartarse."
   ]
  },
  {
   "cell_type": "code",
   "execution_count": 11,
   "id": "16c08eec",
   "metadata": {},
   "outputs": [
    {
     "data": {
      "text/html": [
       "<div>\n",
       "<style scoped>\n",
       "    .dataframe tbody tr th:only-of-type {\n",
       "        vertical-align: middle;\n",
       "    }\n",
       "\n",
       "    .dataframe tbody tr th {\n",
       "        vertical-align: top;\n",
       "    }\n",
       "\n",
       "    .dataframe thead th {\n",
       "        text-align: right;\n",
       "    }\n",
       "</style>\n",
       "<table border=\"1\" class=\"dataframe\">\n",
       "  <thead>\n",
       "    <tr style=\"text-align: right;\">\n",
       "      <th></th>\n",
       "      <th>Ping (ms)</th>\n",
       "      <th>Download (Mbit/s)</th>\n",
       "      <th>Upload (Mbit/s)</th>\n",
       "      <th>Datetime</th>\n",
       "    </tr>\n",
       "  </thead>\n",
       "  <tbody>\n",
       "    <tr>\n",
       "      <th>0</th>\n",
       "      <td>26.992</td>\n",
       "      <td>91.80</td>\n",
       "      <td>14.31</td>\n",
       "      <td>2016-11-24 13:36:25</td>\n",
       "    </tr>\n",
       "    <tr>\n",
       "      <th>1</th>\n",
       "      <td>24.532</td>\n",
       "      <td>88.19</td>\n",
       "      <td>14.12</td>\n",
       "      <td>2016-11-24 13:36:55</td>\n",
       "    </tr>\n",
       "    <tr>\n",
       "      <th>2</th>\n",
       "      <td>20.225</td>\n",
       "      <td>59.86</td>\n",
       "      <td>14.11</td>\n",
       "      <td>2016-11-24 13:37:25</td>\n",
       "    </tr>\n",
       "    <tr>\n",
       "      <th>3</th>\n",
       "      <td>19.332</td>\n",
       "      <td>91.81</td>\n",
       "      <td>14.22</td>\n",
       "      <td>2016-11-24 13:37:57</td>\n",
       "    </tr>\n",
       "    <tr>\n",
       "      <th>4</th>\n",
       "      <td>22.494</td>\n",
       "      <td>92.05</td>\n",
       "      <td>14.08</td>\n",
       "      <td>2016-11-24 13:38:27</td>\n",
       "    </tr>\n",
       "  </tbody>\n",
       "</table>\n",
       "</div>"
      ],
      "text/plain": [
       "  Ping (ms) Download (Mbit/s)  Upload (Mbit/s)             Datetime\n",
       "0    26.992             91.80            14.31  2016-11-24 13:36:25\n",
       "1    24.532             88.19            14.12  2016-11-24 13:36:55\n",
       "2    20.225             59.86            14.11  2016-11-24 13:37:25\n",
       "3    19.332             91.81            14.22  2016-11-24 13:37:57\n",
       "4    22.494             92.05            14.08  2016-11-24 13:38:27"
      ]
     },
     "execution_count": 11,
     "metadata": {},
     "output_type": "execute_result"
    }
   ],
   "source": [
    "# Code cell 27\n",
    "df_compact.drop(['Type A', 'Type B', 'Type C',\n",
    "         'Units A', 'Units B', 'Units C'], axis=1, inplace=True)\n",
    "df_compact.head()"
   ]
  },
  {
   "cell_type": "markdown",
   "id": "a75e2966",
   "metadata": {},
   "source": [
    "En la tabla anterior, el campo 'Datetime' es una cadena. Los pandas y Python ofrecen varias operaciones para trabajar con la fecha y la hora que pueden ser muy útiles.\n",
    "\n",
    "En el siguiente paso, la cadena de la columna 'Datetime' se separará en dos columnas nuevas.\n",
    "\n",
    "## Paso 4: Separar los datos en dos columnas.\n",
    "En este paso, utilizará Pandas para generar las columnas 'Date' y 'Time' a partir de la columna 'Datetime' y luego descartará la columna 'Datetime'.\n",
    "\n",
    "Se utiliza la función 'lambda' para crear dos funciones anónimas que recuperen solo la fecha y la hora de un objeto 'datetime', respectivamente. Luego, utilice la función de 'pandas' 'apply' para aplicar esta función a una columna completa (en la práctica, 'apply' define implícitamente un bucle 'for' y pasa las filas una a una hasta nuestra función 'lambda'). Guarde el resultado de las funciones 'apply' en dos nuevas columnas del 'DataFrame'.\n",
    "\n",
    "a) Aplique la función 'lambda' para iterar a través del marco de datos y dividir la fecha de la columna 'Datetime'."
   ]
  },
  {
   "cell_type": "code",
   "execution_count": 12,
   "id": "4cb861c8",
   "metadata": {},
   "outputs": [],
   "source": [
    "# Code cell 28\n",
    "df_compact['Date'] = df_compact['Datetime'].apply(lambda dt_str: pd.to_datetime(dt_str).date())"
   ]
  },
  {
   "cell_type": "markdown",
   "id": "9a67c33b",
   "metadata": {},
   "source": [
    "b) Repita el paso a) para dividir la hora de la columna 'Datetime'."
   ]
  },
  {
   "cell_type": "code",
   "execution_count": 13,
   "id": "6b0e495d",
   "metadata": {},
   "outputs": [],
   "source": [
    "# Code cell 29\n",
    "# Please note, this requires an intermediate step, because of how NaT are treated by the time() function.\n",
    "# Reference: https://github.com/pandas-dev/pandas/issues/11453\n",
    "temp = df_compact['Datetime'].apply(lambda dt_str: pd.to_datetime(dt_str))\n",
    "df_compact['Time'] = temp.dt.time"
   ]
  },
  {
   "cell_type": "markdown",
   "id": "271e6dc9",
   "metadata": {},
   "source": [
    "c) Toda la información de la columna 'Datetime' se ha copiado ahora a las columnas 'Date' y 'Time'. La columna 'Datetime' carece de propósito. La columna 'Datetime' se puede descartar del marco de datos.\n",
    "\n",
    "Ingrese el código para descartar la columna 'Datetime' en la celda a continuación."
   ]
  },
  {
   "cell_type": "code",
   "execution_count": 14,
   "id": "390b5125",
   "metadata": {},
   "outputs": [
    {
     "data": {
      "text/plain": [
       "Index(['Ping (ms)', 'Download (Mbit/s)', 'Upload (Mbit/s)', 'Datetime', 'Date',\n",
       "       'Time'],\n",
       "      dtype='object')"
      ]
     },
     "execution_count": 14,
     "metadata": {},
     "output_type": "execute_result"
    }
   ],
   "source": [
    "# Code cell 30\n",
    "df_compact.columns"
   ]
  },
  {
   "cell_type": "code",
   "execution_count": 15,
   "id": "fc15445a",
   "metadata": {},
   "outputs": [
    {
     "data": {
      "text/plain": [
       "Index(['Ping (ms)', 'Download (Mbit/s)', 'Upload (Mbit/s)', 'Date', 'Time'], dtype='object')"
      ]
     },
     "execution_count": 15,
     "metadata": {},
     "output_type": "execute_result"
    }
   ],
   "source": [
    "df_compact.drop('Datetime',axis=1,inplace=True)\n",
    "df_compact.columns"
   ]
  },
  {
   "cell_type": "markdown",
   "id": "1039f052",
   "metadata": {},
   "source": [
    "Ingrese el código para imprimir las primeras 3 filas del marco de datos para verificar los cambios."
   ]
  },
  {
   "cell_type": "code",
   "execution_count": 16,
   "id": "dc498909",
   "metadata": {},
   "outputs": [
    {
     "data": {
      "text/html": [
       "<div>\n",
       "<style scoped>\n",
       "    .dataframe tbody tr th:only-of-type {\n",
       "        vertical-align: middle;\n",
       "    }\n",
       "\n",
       "    .dataframe tbody tr th {\n",
       "        vertical-align: top;\n",
       "    }\n",
       "\n",
       "    .dataframe thead th {\n",
       "        text-align: right;\n",
       "    }\n",
       "</style>\n",
       "<table border=\"1\" class=\"dataframe\">\n",
       "  <thead>\n",
       "    <tr style=\"text-align: right;\">\n",
       "      <th></th>\n",
       "      <th>Ping (ms)</th>\n",
       "      <th>Download (Mbit/s)</th>\n",
       "      <th>Upload (Mbit/s)</th>\n",
       "      <th>Date</th>\n",
       "      <th>Time</th>\n",
       "    </tr>\n",
       "  </thead>\n",
       "  <tbody>\n",
       "    <tr>\n",
       "      <th>0</th>\n",
       "      <td>26.992</td>\n",
       "      <td>91.80</td>\n",
       "      <td>14.31</td>\n",
       "      <td>2016-11-24</td>\n",
       "      <td>13:36:25</td>\n",
       "    </tr>\n",
       "    <tr>\n",
       "      <th>1</th>\n",
       "      <td>24.532</td>\n",
       "      <td>88.19</td>\n",
       "      <td>14.12</td>\n",
       "      <td>2016-11-24</td>\n",
       "      <td>13:36:55</td>\n",
       "    </tr>\n",
       "    <tr>\n",
       "      <th>2</th>\n",
       "      <td>20.225</td>\n",
       "      <td>59.86</td>\n",
       "      <td>14.11</td>\n",
       "      <td>2016-11-24</td>\n",
       "      <td>13:37:25</td>\n",
       "    </tr>\n",
       "  </tbody>\n",
       "</table>\n",
       "</div>"
      ],
      "text/plain": [
       "  Ping (ms) Download (Mbit/s)  Upload (Mbit/s)        Date      Time\n",
       "0    26.992             91.80            14.31  2016-11-24  13:36:25\n",
       "1    24.532             88.19            14.12  2016-11-24  13:36:55\n",
       "2    20.225             59.86            14.11  2016-11-24  13:37:25"
      ]
     },
     "execution_count": 16,
     "metadata": {},
     "output_type": "execute_result"
    }
   ],
   "source": [
    "# Code cell 31\n",
    "df_compact.head(3)"
   ]
  },
  {
   "cell_type": "markdown",
   "id": "b14b6f1d",
   "metadata": {},
   "source": [
    "d) Utilice la función 'type' para imprimir el tipo de variable de los valores en las columnas 'Date' y 'Time'."
   ]
  },
  {
   "cell_type": "code",
   "execution_count": 17,
   "id": "68bc2db6",
   "metadata": {},
   "outputs": [
    {
     "name": "stdout",
     "output_type": "stream",
     "text": [
      "2016-11-24 <class 'datetime.date'>\n",
      "13:36:25 <class 'datetime.time'>\n"
     ]
    }
   ],
   "source": [
    "# Code cell 32\n",
    "print(df_compact['Date'][0], type(df_compact['Date'][0]) )\n",
    "print(df_compact['Time'][0], type(df_compact['Time'][0]) )"
   ]
  },
  {
   "cell_type": "markdown",
   "id": "c4b337fa",
   "metadata": {},
   "source": [
    "## Paso 5: Guardar el nuevo marco de datos.\n",
    "\n",
    "Guarde el marco de datos de pandas 'df_compact' como un archivo csv llamado 'rpi_data_compact':"
   ]
  },
  {
   "cell_type": "code",
   "execution_count": 18,
   "id": "2802d415",
   "metadata": {},
   "outputs": [],
   "source": [
    "# Code cell 33\n",
    "df_compact.to_csv('Data/rpi_data_compact.csv')"
   ]
  },
  {
   "cell_type": "code",
   "execution_count": 19,
   "id": "9687cdff",
   "metadata": {},
   "outputs": [
    {
     "name": "stdout",
     "output_type": "stream",
     "text": [
      ",Ping (ms),Download (Mbit/s),Upload (Mbit/s),Date,Time\n",
      "0,26.992,91.80,14.31,2016-11-24,13:36:25\n",
      "1,24.532,88.19,14.12,2016-11-24,13:36:55\n",
      "2,20.225,59.86,14.11,2016-11-24,13:37:25\n",
      "3,19.332,91.81,14.22,2016-11-24,13:37:57\n"
     ]
    }
   ],
   "source": [
    "#Mostrara las 5 filas del nuevo archivo creado\n",
    "!head -n 5 Data/rpi_data_compact.csv"
   ]
  }
 ],
 "metadata": {
  "kernelspec": {
   "display_name": "Python 3 (ipykernel)",
   "language": "python",
   "name": "python3"
  },
  "language_info": {
   "codemirror_mode": {
    "name": "ipython",
    "version": 3
   },
   "file_extension": ".py",
   "mimetype": "text/x-python",
   "name": "python",
   "nbconvert_exporter": "python",
   "pygments_lexer": "ipython3",
   "version": "3.9.7"
  }
 },
 "nbformat": 4,
 "nbformat_minor": 5
}
