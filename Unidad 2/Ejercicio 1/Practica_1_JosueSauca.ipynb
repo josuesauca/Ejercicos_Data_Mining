{
 "cells": [
  {
   "cell_type": "markdown",
   "id": "c9cec122",
   "metadata": {},
   "source": [
    "## Nombre : Josue Alejandro Sauca Pucha\n",
    "## Fecha : 05-06-2023"
   ]
  },
  {
   "cell_type": "markdown",
   "id": "018c4933",
   "metadata": {},
   "source": [
    "Dato el siguiente archivo\n",
    "\n",
    "calcular el soporte y la confianza para la regla: \"Si una persona compra manzanas tambi compra bananas\"\n",
    "\n",
    "Tome en cosideración que los features del dataset son: pan, leche,queso,manzanas y bananas en ese orden"
   ]
  },
  {
   "cell_type": "code",
   "execution_count": 95,
   "id": "8f2de11c",
   "metadata": {},
   "outputs": [],
   "source": [
    "import pandas as pd\n",
    "\n",
    "data=pd.read_csv('affinity_dataset.txt', sep=\" \",header=None,names=['pan','leche','queso','manzanas','bananas'])"
   ]
  },
  {
   "cell_type": "code",
   "execution_count": 96,
   "id": "43e28c41",
   "metadata": {},
   "outputs": [
    {
     "data": {
      "text/html": [
       "<div>\n",
       "<style scoped>\n",
       "    .dataframe tbody tr th:only-of-type {\n",
       "        vertical-align: middle;\n",
       "    }\n",
       "\n",
       "    .dataframe tbody tr th {\n",
       "        vertical-align: top;\n",
       "    }\n",
       "\n",
       "    .dataframe thead th {\n",
       "        text-align: right;\n",
       "    }\n",
       "</style>\n",
       "<table border=\"1\" class=\"dataframe\">\n",
       "  <thead>\n",
       "    <tr style=\"text-align: right;\">\n",
       "      <th></th>\n",
       "      <th>pan</th>\n",
       "      <th>leche</th>\n",
       "      <th>queso</th>\n",
       "      <th>manzanas</th>\n",
       "      <th>bananas</th>\n",
       "    </tr>\n",
       "  </thead>\n",
       "  <tbody>\n",
       "    <tr>\n",
       "      <th>0</th>\n",
       "      <td>0</td>\n",
       "      <td>1</td>\n",
       "      <td>0</td>\n",
       "      <td>0</td>\n",
       "      <td>0</td>\n",
       "    </tr>\n",
       "    <tr>\n",
       "      <th>1</th>\n",
       "      <td>1</td>\n",
       "      <td>1</td>\n",
       "      <td>0</td>\n",
       "      <td>0</td>\n",
       "      <td>0</td>\n",
       "    </tr>\n",
       "    <tr>\n",
       "      <th>2</th>\n",
       "      <td>0</td>\n",
       "      <td>0</td>\n",
       "      <td>1</td>\n",
       "      <td>0</td>\n",
       "      <td>1</td>\n",
       "    </tr>\n",
       "    <tr>\n",
       "      <th>3</th>\n",
       "      <td>1</td>\n",
       "      <td>1</td>\n",
       "      <td>0</td>\n",
       "      <td>0</td>\n",
       "      <td>0</td>\n",
       "    </tr>\n",
       "    <tr>\n",
       "      <th>4</th>\n",
       "      <td>0</td>\n",
       "      <td>0</td>\n",
       "      <td>1</td>\n",
       "      <td>1</td>\n",
       "      <td>1</td>\n",
       "    </tr>\n",
       "    <tr>\n",
       "      <th>...</th>\n",
       "      <td>...</td>\n",
       "      <td>...</td>\n",
       "      <td>...</td>\n",
       "      <td>...</td>\n",
       "      <td>...</td>\n",
       "    </tr>\n",
       "    <tr>\n",
       "      <th>95</th>\n",
       "      <td>0</td>\n",
       "      <td>0</td>\n",
       "      <td>1</td>\n",
       "      <td>1</td>\n",
       "      <td>1</td>\n",
       "    </tr>\n",
       "    <tr>\n",
       "      <th>96</th>\n",
       "      <td>1</td>\n",
       "      <td>1</td>\n",
       "      <td>1</td>\n",
       "      <td>1</td>\n",
       "      <td>0</td>\n",
       "    </tr>\n",
       "    <tr>\n",
       "      <th>97</th>\n",
       "      <td>0</td>\n",
       "      <td>1</td>\n",
       "      <td>0</td>\n",
       "      <td>0</td>\n",
       "      <td>1</td>\n",
       "    </tr>\n",
       "    <tr>\n",
       "      <th>98</th>\n",
       "      <td>0</td>\n",
       "      <td>1</td>\n",
       "      <td>0</td>\n",
       "      <td>0</td>\n",
       "      <td>1</td>\n",
       "    </tr>\n",
       "    <tr>\n",
       "      <th>99</th>\n",
       "      <td>1</td>\n",
       "      <td>1</td>\n",
       "      <td>0</td>\n",
       "      <td>1</td>\n",
       "      <td>1</td>\n",
       "    </tr>\n",
       "  </tbody>\n",
       "</table>\n",
       "<p>100 rows × 5 columns</p>\n",
       "</div>"
      ],
      "text/plain": [
       "    pan  leche  queso  manzanas  bananas\n",
       "0     0      1      0         0        0\n",
       "1     1      1      0         0        0\n",
       "2     0      0      1         0        1\n",
       "3     1      1      0         0        0\n",
       "4     0      0      1         1        1\n",
       "..  ...    ...    ...       ...      ...\n",
       "95    0      0      1         1        1\n",
       "96    1      1      1         1        0\n",
       "97    0      1      0         0        1\n",
       "98    0      1      0         0        1\n",
       "99    1      1      0         1        1\n",
       "\n",
       "[100 rows x 5 columns]"
      ]
     },
     "execution_count": 96,
     "metadata": {},
     "output_type": "execute_result"
    }
   ],
   "source": [
    "data"
   ]
  },
  {
   "cell_type": "code",
   "execution_count": 99,
   "id": "379f030f",
   "metadata": {},
   "outputs": [],
   "source": [
    "#Con el signo & se realiza una interseccion de conjuntos entre\n",
    "#ambas tablas, es decir va a arrojar los datos repetidos filas\n",
    "soporte = ((data['manzanas']==1) & (data['bananas']==1)).value_counts()"
   ]
  },
  {
   "cell_type": "code",
   "execution_count": 100,
   "id": "bb3ac3a8",
   "metadata": {},
   "outputs": [
    {
     "data": {
      "text/plain": [
       "False    73\n",
       "True     27\n",
       "dtype: int64"
      ]
     },
     "execution_count": 100,
     "metadata": {},
     "output_type": "execute_result"
    }
   ],
   "source": [
    "soporte"
   ]
  },
  {
   "cell_type": "code",
   "execution_count": 114,
   "id": "831ad6ad",
   "metadata": {},
   "outputs": [
    {
     "data": {
      "text/plain": [
       "False    57\n",
       "True     43\n",
       "Name: manzanas, dtype: int64"
      ]
     },
     "execution_count": 114,
     "metadata": {},
     "output_type": "execute_result"
    }
   ],
   "source": [
    "\"\"\"\n",
    "Para calcular el soporte de a se lo debe hacer, mediante el calculo\n",
    "de la frecuencia relativa, que es el numero de veces que se repite\n",
    "un valor dentro de un conjunto de datos, en este caso\n",
    "    \n",
    "    1 = el numero de veces este valor es 43\n",
    "    0 = el numero de veces este valor es 57\n",
    "\"\"\"\n",
    "soporte_a= (data['manzanas']==1).value_counts()\n",
    "soporte_a"
   ]
  },
  {
   "cell_type": "code",
   "execution_count": 115,
   "id": "8f71f8d4",
   "metadata": {},
   "outputs": [],
   "source": [
    "confianza = soporte/soporte_a"
   ]
  },
  {
   "cell_type": "code",
   "execution_count": 116,
   "id": "9105bc32",
   "metadata": {},
   "outputs": [
    {
     "data": {
      "text/plain": [
       "False    1.280702\n",
       "True     0.627907\n",
       "dtype: float64"
      ]
     },
     "execution_count": 116,
     "metadata": {},
     "output_type": "execute_result"
    }
   ],
   "source": [
    "confianza"
   ]
  }
 ],
 "metadata": {
  "kernelspec": {
   "display_name": "Python 3 (ipykernel)",
   "language": "python",
   "name": "python3"
  },
  "language_info": {
   "codemirror_mode": {
    "name": "ipython",
    "version": 3
   },
   "file_extension": ".py",
   "mimetype": "text/x-python",
   "name": "python",
   "nbconvert_exporter": "python",
   "pygments_lexer": "ipython3",
   "version": "3.9.7"
  }
 },
 "nbformat": 4,
 "nbformat_minor": 5
}
