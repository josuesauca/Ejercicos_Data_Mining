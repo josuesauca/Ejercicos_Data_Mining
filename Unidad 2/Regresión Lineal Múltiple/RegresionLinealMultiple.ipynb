{
 "cells": [
  {
   "cell_type": "markdown",
   "metadata": {},
   "source": [
    "# Nombre : Josue Alejandro Sauca Pucha\n",
    "# Fecha : 28-06-2023"
   ]
  },
  {
   "cell_type": "code",
   "execution_count": 1,
   "metadata": {},
   "outputs": [],
   "source": [
    "import pandas as pd                    ## Este proporciona una estructura similiar a los data.frame\n",
    "import statsmodels.api as sm           ## Este proporciona funciones para la estimación de muchos modelos estadísticos\n",
    "import statsmodels.formula.api as smf  ## Permite ajustar modelos estadísticos utilizando fórmulas de estilo R"
   ]
  },
  {
   "cell_type": "code",
   "execution_count": 11,
   "metadata": {},
   "outputs": [
    {
     "data": {
      "text/html": [
       "<div>\n",
       "<style scoped>\n",
       "    .dataframe tbody tr th:only-of-type {\n",
       "        vertical-align: middle;\n",
       "    }\n",
       "\n",
       "    .dataframe tbody tr th {\n",
       "        vertical-align: top;\n",
       "    }\n",
       "\n",
       "    .dataframe thead th {\n",
       "        text-align: right;\n",
       "    }\n",
       "</style>\n",
       "<table border=\"1\" class=\"dataframe\">\n",
       "  <thead>\n",
       "    <tr style=\"text-align: right;\">\n",
       "      <th></th>\n",
       "      <th>Coste</th>\n",
       "      <th>Ficheros</th>\n",
       "      <th>Flujos</th>\n",
       "      <th>Procesos</th>\n",
       "    </tr>\n",
       "  </thead>\n",
       "  <tbody>\n",
       "    <tr>\n",
       "      <th>0</th>\n",
       "      <td>22.6</td>\n",
       "      <td>4</td>\n",
       "      <td>44</td>\n",
       "      <td>18</td>\n",
       "    </tr>\n",
       "    <tr>\n",
       "      <th>1</th>\n",
       "      <td>15.0</td>\n",
       "      <td>2</td>\n",
       "      <td>33</td>\n",
       "      <td>15</td>\n",
       "    </tr>\n",
       "    <tr>\n",
       "      <th>2</th>\n",
       "      <td>78.1</td>\n",
       "      <td>20</td>\n",
       "      <td>80</td>\n",
       "      <td>80</td>\n",
       "    </tr>\n",
       "    <tr>\n",
       "      <th>3</th>\n",
       "      <td>28.0</td>\n",
       "      <td>6</td>\n",
       "      <td>24</td>\n",
       "      <td>21</td>\n",
       "    </tr>\n",
       "    <tr>\n",
       "      <th>4</th>\n",
       "      <td>80.5</td>\n",
       "      <td>6</td>\n",
       "      <td>227</td>\n",
       "      <td>50</td>\n",
       "    </tr>\n",
       "    <tr>\n",
       "      <th>5</th>\n",
       "      <td>24.5</td>\n",
       "      <td>3</td>\n",
       "      <td>20</td>\n",
       "      <td>18</td>\n",
       "    </tr>\n",
       "    <tr>\n",
       "      <th>6</th>\n",
       "      <td>20.5</td>\n",
       "      <td>4</td>\n",
       "      <td>41</td>\n",
       "      <td>13</td>\n",
       "    </tr>\n",
       "    <tr>\n",
       "      <th>7</th>\n",
       "      <td>147.6</td>\n",
       "      <td>16</td>\n",
       "      <td>187</td>\n",
       "      <td>137</td>\n",
       "    </tr>\n",
       "    <tr>\n",
       "      <th>8</th>\n",
       "      <td>4.2</td>\n",
       "      <td>4</td>\n",
       "      <td>19</td>\n",
       "      <td>15</td>\n",
       "    </tr>\n",
       "    <tr>\n",
       "      <th>9</th>\n",
       "      <td>48.2</td>\n",
       "      <td>6</td>\n",
       "      <td>50</td>\n",
       "      <td>21</td>\n",
       "    </tr>\n",
       "    <tr>\n",
       "      <th>10</th>\n",
       "      <td>20.5</td>\n",
       "      <td>5</td>\n",
       "      <td>48</td>\n",
       "      <td>17</td>\n",
       "    </tr>\n",
       "  </tbody>\n",
       "</table>\n",
       "</div>"
      ],
      "text/plain": [
       "    Coste  Ficheros  Flujos  Procesos\n",
       "0    22.6         4      44        18\n",
       "1    15.0         2      33        15\n",
       "2    78.1        20      80        80\n",
       "3    28.0         6      24        21\n",
       "4    80.5         6     227        50\n",
       "5    24.5         3      20        18\n",
       "6    20.5         4      41        13\n",
       "7   147.6        16     187       137\n",
       "8     4.2         4      19        15\n",
       "9    48.2         6      50        21\n",
       "10   20.5         5      48        17"
      ]
     },
     "execution_count": 11,
     "metadata": {},
     "output_type": "execute_result"
    }
   ],
   "source": [
    "dt = pd.read_csv('procesamientode_datos.csv')\n",
    "dt"
   ]
  },
  {
   "cell_type": "code",
   "execution_count": 12,
   "metadata": {},
   "outputs": [
    {
     "data": {
      "text/html": [
       "<div>\n",
       "<style scoped>\n",
       "    .dataframe tbody tr th:only-of-type {\n",
       "        vertical-align: middle;\n",
       "    }\n",
       "\n",
       "    .dataframe tbody tr th {\n",
       "        vertical-align: top;\n",
       "    }\n",
       "\n",
       "    .dataframe thead th {\n",
       "        text-align: right;\n",
       "    }\n",
       "</style>\n",
       "<table border=\"1\" class=\"dataframe\">\n",
       "  <thead>\n",
       "    <tr style=\"text-align: right;\">\n",
       "      <th></th>\n",
       "      <th>Coste</th>\n",
       "      <th>Ficheros</th>\n",
       "      <th>Flujos</th>\n",
       "      <th>Procesos</th>\n",
       "    </tr>\n",
       "  </thead>\n",
       "  <tbody>\n",
       "    <tr>\n",
       "      <th>Coste</th>\n",
       "      <td>1.000000</td>\n",
       "      <td>0.778474</td>\n",
       "      <td>0.830392</td>\n",
       "      <td>0.959842</td>\n",
       "    </tr>\n",
       "    <tr>\n",
       "      <th>Ficheros</th>\n",
       "      <td>0.778474</td>\n",
       "      <td>1.000000</td>\n",
       "      <td>0.458982</td>\n",
       "      <td>0.854561</td>\n",
       "    </tr>\n",
       "    <tr>\n",
       "      <th>Flujos</th>\n",
       "      <td>0.830392</td>\n",
       "      <td>0.458982</td>\n",
       "      <td>1.000000</td>\n",
       "      <td>0.720437</td>\n",
       "    </tr>\n",
       "    <tr>\n",
       "      <th>Procesos</th>\n",
       "      <td>0.959842</td>\n",
       "      <td>0.854561</td>\n",
       "      <td>0.720437</td>\n",
       "      <td>1.000000</td>\n",
       "    </tr>\n",
       "  </tbody>\n",
       "</table>\n",
       "</div>"
      ],
      "text/plain": [
       "             Coste  Ficheros    Flujos  Procesos\n",
       "Coste     1.000000  0.778474  0.830392  0.959842\n",
       "Ficheros  0.778474  1.000000  0.458982  0.854561\n",
       "Flujos    0.830392  0.458982  1.000000  0.720437\n",
       "Procesos  0.959842  0.854561  0.720437  1.000000"
      ]
     },
     "execution_count": 12,
     "metadata": {},
     "output_type": "execute_result"
    }
   ],
   "source": [
    "dt.corr()"
   ]
  },
  {
   "cell_type": "code",
   "execution_count": 13,
   "metadata": {},
   "outputs": [],
   "source": [
    "mod = smf.ols('Coste~Ficheros+Flujos+Procesos', data=dt).fit()  # Ajusta el modelo usando el registro natural de uno de los regresores"
   ]
  },
  {
   "cell_type": "code",
   "execution_count": 14,
   "metadata": {},
   "outputs": [
    {
     "name": "stderr",
     "output_type": "stream",
     "text": [
      "D:\\Programas\\Anaconda\\lib\\site-packages\\scipy\\stats\\stats.py:1541: UserWarning: kurtosistest only valid for n>=20 ... continuing anyway, n=11\n",
      "  warnings.warn(\"kurtosistest only valid for n>=20 ... continuing \"\n"
     ]
    },
    {
     "data": {
      "text/html": [
       "<table class=\"simpletable\">\n",
       "<caption>OLS Regression Results</caption>\n",
       "<tr>\n",
       "  <th>Dep. Variable:</th>          <td>Coste</td>      <th>  R-squared:         </th> <td>   0.961</td>\n",
       "</tr>\n",
       "<tr>\n",
       "  <th>Model:</th>                   <td>OLS</td>       <th>  Adj. R-squared:    </th> <td>   0.945</td>\n",
       "</tr>\n",
       "<tr>\n",
       "  <th>Method:</th>             <td>Least Squares</td>  <th>  F-statistic:       </th> <td>   58.21</td>\n",
       "</tr>\n",
       "<tr>\n",
       "  <th>Date:</th>             <td>Wed, 28 Jun 2023</td> <th>  Prob (F-statistic):</th> <td>2.58e-05</td>\n",
       "</tr>\n",
       "<tr>\n",
       "  <th>Time:</th>                 <td>11:23:31</td>     <th>  Log-Likelihood:    </th> <td> -38.361</td>\n",
       "</tr>\n",
       "<tr>\n",
       "  <th>No. Observations:</th>      <td>    11</td>      <th>  AIC:               </th> <td>   84.72</td>\n",
       "</tr>\n",
       "<tr>\n",
       "  <th>Df Residuals:</th>          <td>     7</td>      <th>  BIC:               </th> <td>   86.31</td>\n",
       "</tr>\n",
       "<tr>\n",
       "  <th>Df Model:</th>              <td>     3</td>      <th>                     </th>     <td> </td>   \n",
       "</tr>\n",
       "<tr>\n",
       "  <th>Covariance Type:</th>      <td>nonrobust</td>    <th>                     </th>     <td> </td>   \n",
       "</tr>\n",
       "</table>\n",
       "<table class=\"simpletable\">\n",
       "<tr>\n",
       "      <td></td>         <th>coef</th>     <th>std err</th>      <th>t</th>      <th>P>|t|</th>  <th>[0.025</th>    <th>0.975]</th>  \n",
       "</tr>\n",
       "<tr>\n",
       "  <th>Intercept</th> <td>    1.9618</td> <td>    5.608</td> <td>    0.350</td> <td> 0.737</td> <td>  -11.300</td> <td>   15.223</td>\n",
       "</tr>\n",
       "<tr>\n",
       "  <th>Ficheros</th>  <td>    0.1178</td> <td>    1.177</td> <td>    0.100</td> <td> 0.923</td> <td>   -2.665</td> <td>    2.900</td>\n",
       "</tr>\n",
       "<tr>\n",
       "  <th>Flujos</th>    <td>    0.1767</td> <td>    0.071</td> <td>    2.474</td> <td> 0.043</td> <td>    0.008</td> <td>    0.346</td>\n",
       "</tr>\n",
       "<tr>\n",
       "  <th>Procesos</th>  <td>    0.7964</td> <td>    0.220</td> <td>    3.613</td> <td> 0.009</td> <td>    0.275</td> <td>    1.318</td>\n",
       "</tr>\n",
       "</table>\n",
       "<table class=\"simpletable\">\n",
       "<tr>\n",
       "  <th>Omnibus:</th>       <td> 7.167</td> <th>  Durbin-Watson:     </th> <td>   3.064</td>\n",
       "</tr>\n",
       "<tr>\n",
       "  <th>Prob(Omnibus):</th> <td> 0.028</td> <th>  Jarque-Bera (JB):  </th> <td>   2.833</td>\n",
       "</tr>\n",
       "<tr>\n",
       "  <th>Skew:</th>          <td> 0.987</td> <th>  Prob(JB):          </th> <td>   0.243</td>\n",
       "</tr>\n",
       "<tr>\n",
       "  <th>Kurtosis:</th>      <td> 4.513</td> <th>  Cond. No.          </th> <td>    204.</td>\n",
       "</tr>\n",
       "</table><br/><br/>Notes:<br/>[1] Standard Errors assume that the covariance matrix of the errors is correctly specified."
      ],
      "text/plain": [
       "<class 'statsmodels.iolib.summary.Summary'>\n",
       "\"\"\"\n",
       "                            OLS Regression Results                            \n",
       "==============================================================================\n",
       "Dep. Variable:                  Coste   R-squared:                       0.961\n",
       "Model:                            OLS   Adj. R-squared:                  0.945\n",
       "Method:                 Least Squares   F-statistic:                     58.21\n",
       "Date:                Wed, 28 Jun 2023   Prob (F-statistic):           2.58e-05\n",
       "Time:                        11:23:31   Log-Likelihood:                -38.361\n",
       "No. Observations:                  11   AIC:                             84.72\n",
       "Df Residuals:                       7   BIC:                             86.31\n",
       "Df Model:                           3                                         \n",
       "Covariance Type:            nonrobust                                         \n",
       "==============================================================================\n",
       "                 coef    std err          t      P>|t|      [0.025      0.975]\n",
       "------------------------------------------------------------------------------\n",
       "Intercept      1.9618      5.608      0.350      0.737     -11.300      15.223\n",
       "Ficheros       0.1178      1.177      0.100      0.923      -2.665       2.900\n",
       "Flujos         0.1767      0.071      2.474      0.043       0.008       0.346\n",
       "Procesos       0.7964      0.220      3.613      0.009       0.275       1.318\n",
       "==============================================================================\n",
       "Omnibus:                        7.167   Durbin-Watson:                   3.064\n",
       "Prob(Omnibus):                  0.028   Jarque-Bera (JB):                2.833\n",
       "Skew:                           0.987   Prob(JB):                        0.243\n",
       "Kurtosis:                       4.513   Cond. No.                         204.\n",
       "==============================================================================\n",
       "\n",
       "Notes:\n",
       "[1] Standard Errors assume that the covariance matrix of the errors is correctly specified.\n",
       "\"\"\""
      ]
     },
     "execution_count": 14,
     "metadata": {},
     "output_type": "execute_result"
    }
   ],
   "source": [
    "mod.summary()"
   ]
  },
  {
   "cell_type": "code",
   "execution_count": 6,
   "metadata": {},
   "outputs": [
    {
     "data": {
      "text/plain": [
       "Intercept    1.961779\n",
       "Ficheros     0.117759\n",
       "Flujos       0.176726\n",
       "Procesos     0.796448\n",
       "dtype: float64"
      ]
     },
     "execution_count": 6,
     "metadata": {},
     "output_type": "execute_result"
    }
   ],
   "source": [
    "mod.params"
   ]
  },
  {
   "cell_type": "code",
   "execution_count": 15,
   "metadata": {},
   "outputs": [
    {
     "data": {
      "text/plain": [
       "0.11775864437820971"
      ]
     },
     "execution_count": 15,
     "metadata": {},
     "output_type": "execute_result"
    }
   ],
   "source": [
    "mod.params.Ficheros"
   ]
  },
  {
   "cell_type": "code",
   "execution_count": 24,
   "metadata": {},
   "outputs": [],
   "source": [
    "def predicion(Ficheros, Flujos, Procesos):\n",
    "  prediccion = mod.params.Intercept + mod.params.Ficheros*Ficheros + mod.params.Flujos*Flujos + mod.params.Procesos*Procesos\n",
    "  return prediccion"
   ]
  },
  {
   "cell_type": "code",
   "execution_count": 25,
   "metadata": {},
   "outputs": [
    {
     "data": {
      "text/plain": [
       "80.54557706520916"
      ]
     },
     "execution_count": 25,
     "metadata": {},
     "output_type": "execute_result"
    }
   ],
   "source": [
    "predicion(10,100,75)"
   ]
  }
 ],
 "metadata": {
  "kernelspec": {
   "display_name": "Python 3 (ipykernel)",
   "language": "python",
   "name": "python3"
  },
  "language_info": {
   "codemirror_mode": {
    "name": "ipython",
    "version": 3
   },
   "file_extension": ".py",
   "mimetype": "text/x-python",
   "name": "python",
   "nbconvert_exporter": "python",
   "pygments_lexer": "ipython3",
   "version": "3.9.7"
  }
 },
 "nbformat": 4,
 "nbformat_minor": 4
}
